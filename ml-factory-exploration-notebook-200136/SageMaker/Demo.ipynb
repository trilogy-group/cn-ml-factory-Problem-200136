{
 "cells": [
  {
   "cell_type": "markdown",
   "metadata": {},
   "source": [
    "# Predict Flow"
   ]
  },
  {
   "cell_type": "markdown",
   "metadata": {},
   "source": [
    "<h2 id=\"tocheading\">Table of Contents</h2>\n",
    "<div id=\"toc\"></div>"
   ]
  },
  {
   "cell_type": "code",
   "execution_count": 1,
   "metadata": {},
   "outputs": [
    {
     "data": {
      "application/javascript": [
       "// Javascript to generate Table of Contents from notebook headers. Re-execute it at the very begining and\n",
       "// on document structure change\n",
       "$.getScript('https://kmahelona.github.io/ipython_notebook_goodies/ipython_notebook_toc.js')\n"
      ],
      "text/plain": [
       "<IPython.core.display.Javascript object>"
      ]
     },
     "metadata": {},
     "output_type": "display_data"
    }
   ],
   "source": [
    "%%javascript\n",
    "// Javascript to generate Table of Contents from notebook headers. Re-execute it at the very begining and\n",
    "// on document structure change\n",
    "$.getScript('https://kmahelona.github.io/ipython_notebook_goodies/ipython_notebook_toc.js')"
   ]
  },
  {
   "cell_type": "markdown",
   "metadata": {},
   "source": [
    "## Parameters"
   ]
  },
  {
   "cell_type": "code",
   "execution_count": 2,
   "metadata": {},
   "outputs": [
    {
     "name": "stdout",
     "output_type": "stream",
     "text": [
      "env: MLFACTORY_REST_API_URL=http://dl1.aureacentral.com:11764\n"
     ]
    }
   ],
   "source": [
    "# Parameter: URL of the REST API\n",
    "%env MLFACTORY_REST_API_URL=http://dl1.aureacentral.com:11764"
   ]
  },
  {
   "cell_type": "code",
   "execution_count": 3,
   "metadata": {},
   "outputs": [],
   "source": [
    "# Parameter\n",
    "# Problem is created in UI, here we use its ID as parameter\n",
    "problem_id = 200136"
   ]
  },
  {
   "cell_type": "code",
   "execution_count": 4,
   "metadata": {},
   "outputs": [],
   "source": [
    "# Parameter\n",
    "# Experiment is pre-created in UI, here we use its ID as parameter to load and reuse it\n",
    "experiment_id = 650"
   ]
  },
  {
   "cell_type": "markdown",
   "metadata": {},
   "source": [
    "## Import Libraries"
   ]
  },
  {
   "cell_type": "code",
   "execution_count": 5,
   "metadata": {},
   "outputs": [
    {
     "name": "stdout",
     "output_type": "stream",
     "text": [
      "\u001b[33mWARNING: You are using pip version 20.0.2; however, version 20.3.1 is available.\r\n",
      "You should consider upgrading via the '/home/ec2-user/anaconda3/envs/amazonei_tensorflow_p36/bin/python -m pip install --upgrade pip' command.\u001b[0m\r\n"
     ]
    }
   ],
   "source": [
    "# Install MLFactory SDK\n",
    "!pip install mlfactory_sdk --upgrade --extra-index https://pypi.swarm.devfactory.com > /dev/null"
   ]
  },
  {
   "cell_type": "code",
   "execution_count": 6,
   "metadata": {},
   "outputs": [
    {
     "name": "stdout",
     "output_type": "stream",
     "text": [
      "Collecting package metadata (current_repodata.json): done\n",
      "Solving environment: / \n",
      "The environment is inconsistent, please check the package plan carefully\n",
      "The following packages are causing the inconsistency:\n",
      "\n",
      "  - defaults/linux-64::pandas==1.0.1=py36h0573a6f_0\n",
      "  - conda-forge/linux-64::keras==2.3.1=py36_0\n",
      "  - defaults/noarch::jupyterlab==1.2.6=pyhf63ae98_0\n",
      "  - defaults/linux-64::scikit-learn==0.22.1=py36hd81dba3_0\n",
      "  - defaults/linux-64::python-language-server==0.31.7=py36_0\n",
      "  - defaults/linux-64::bkcharts==0.2=py36_0\n",
      "  - defaults/linux-64::nb_conda==2.2.1=py36_0\n",
      "  - defaults/noarch::numpydoc==0.9.2=py_0\n",
      "  - defaults/linux-64::pytest-arraydiff==0.3=py36h39e3cac_0\n",
      "  - defaults/linux-64::bottleneck==1.3.2=py36heb32a55_0\n",
      "  - defaults/noarch::sphinx==2.4.0=py_0\n",
      "  - defaults/linux-64::pywavelets==1.1.1=py36h7b6447c_0\n",
      "  - defaults/noarch::pytest-astropy==0.8.0=py_0\n",
      "  - defaults/linux-64::numexpr==2.7.1=py36h423224d_0\n",
      "  - defaults/noarch::anaconda-project==0.8.4=py_0\n",
      "  - conda-forge/linux-64::pygpu==0.7.6=py36h68bb277_1002\n",
      "  - defaults/linux-64::nbconvert==5.6.1=py36_0\n",
      "  - defaults/linux-64::h5py==2.10.0=py36h7918eee_0\n",
      "  - defaults/linux-64::bokeh==1.4.0=py36_0\n",
      "  - defaults/noarch::jupyterlab_server==1.0.6=py_0\n",
      "  - conda-forge/noarch::keras-preprocessing==1.1.0=py_0\n",
      "  - defaults/linux-64::numpy-base==1.18.1=py36hde5b4d6_1\n",
      "  - defaults/linux-64::jupyter==1.0.0=py36_7\n",
      "  - defaults/linux-64::astropy==4.0=py36h7b6447c_0\n",
      "  - defaults/linux-64::patsy==0.5.1=py36_0\n",
      "  - defaults/linux-64::scikit-image==0.16.2=py36h0573a6f_0\n",
      "  - defaults/linux-64::matplotlib-base==3.1.3=py36hef1b27d_0\n",
      "  - defaults/linux-64::imageio==2.6.1=py36_0\n",
      "  - defaults/linux-64::pytables==3.6.1=py36h71ec239_0\n",
      "  - conda-forge/noarch::keras-applications==1.0.8=py_1\n",
      "  - defaults/linux-64::nb_conda_kernels==2.2.4=py36_0\n",
      "  - defaults/linux-64::mkl_fft==1.0.15=py36ha843d7b_0\n",
      "  - defaults/linux-64::statsmodels==0.11.0=py36h7b6447c_0\n",
      "  - defaults/linux-64::spyder==4.0.1=py36_0\n",
      "  - defaults/noarch::seaborn==0.10.0=py_0\n",
      "  - defaults/linux-64::requests==2.22.0=py36_1\n",
      "  - defaults/linux-64::numba==0.48.0=py36h0573a6f_0\n",
      "  - defaults/linux-64::scipy==1.4.1=py36h0b6359f_0\n",
      "  - defaults/noarch::pytest-doctestplus==0.5.0=py_0\n",
      "  - defaults/linux-64::mkl_random==1.1.0=py36hd6b4f25_0\n",
      "  - defaults/noarch::dask==2.11.0=py_0\n",
      "  - conda-forge/linux-64::theano==1.0.3=py36hfc679d8_1\n",
      "  - defaults/noarch::ipywidgets==7.5.1=py_0\n",
      "  - defaults/linux-64::widgetsnbextension==3.5.1=py36_0\n",
      "  - defaults/noarch::s3fs==0.4.2=py_0\n",
      "  - defaults/linux-64::notebook==6.0.3=py36_0\n",
      "  - defaults/linux-64::matplotlib==3.1.3=py36_0\n",
      "  - defaults/linux-64::anaconda-client==1.7.2=py36_0\n",
      "  - defaults/linux-64::numpy==1.18.1=py36h4f9e942_0\n",
      "failed with repodata from current_repodata.json, will retry with next repodata source.\n",
      "Solving environment: failed with repodata from current_repodata.json, will retry with next repodata source.\n",
      "Collecting package metadata (repodata.json): done\n",
      "Solving environment: - \n",
      "The environment is inconsistent, please check the package plan carefully\n",
      "The following packages are causing the inconsistency:\n",
      "\n",
      "  - conda-forge/linux-64::keras==2.3.1=py36_0\n",
      "  - defaults/noarch::jupyterlab==1.2.6=pyhf63ae98_0\n",
      "  - defaults/linux-64::python-language-server==0.31.7=py36_0\n",
      "  - defaults/linux-64::nb_conda==2.2.1=py36_0\n",
      "  - defaults/noarch::numpydoc==0.9.2=py_0\n",
      "  - defaults/noarch::sphinx==2.4.0=py_0\n",
      "  - defaults/noarch::anaconda-project==0.8.4=py_0\n",
      "  - defaults/linux-64::nbconvert==5.6.1=py36_0\n",
      "  - defaults/noarch::jupyterlab_server==1.0.6=py_0\n",
      "  - defaults/linux-64::jupyter==1.0.0=py36_7\n",
      "  - defaults/linux-64::nb_conda_kernels==2.2.4=py36_0\n",
      "  - defaults/linux-64::spyder==4.0.1=py36_0\n",
      "  - defaults/linux-64::requests==2.22.0=py36_1\n",
      "  - defaults/noarch::ipywidgets==7.5.1=py_0\n",
      "  - defaults/linux-64::widgetsnbextension==3.5.1=py36_0\n",
      "  - defaults/noarch::s3fs==0.4.2=py_0\n",
      "  - defaults/linux-64::notebook==6.0.3=py36_0\n",
      "  - defaults/linux-64::anaconda-client==1.7.2=py36_0\n",
      "done\n",
      "\n",
      "## Package Plan ##\n",
      "\n",
      "  environment location: /home/ec2-user/anaconda3/envs/amazonei_tensorflow_p36\n",
      "\n",
      "\n",
      "The following packages will be downloaded:\n",
      "\n",
      "    package                    |            build\n",
      "    ---------------------------|-----------------\n",
      "    _tflow_select-2.3.0        |              mkl           2 KB\n",
      "    absl-py-0.11.0             |     pyhd3eb1b0_1         103 KB\n",
      "    asn1crypto-1.4.0           |             py_0          80 KB\n",
      "    astroid-2.3.3              |           py36_0         272 KB\n",
      "    astropy-4.0.2              |   py36h7b6447c_0         6.1 MB\n",
      "    astunparse-1.6.3           |             py_0          17 KB\n",
      "    atomicwrites-1.4.0         |             py_0          11 KB\n",
      "    attrs-20.3.0               |     pyhd3eb1b0_0          43 KB\n",
      "    autopep8-1.5.4             |             py_0          42 KB\n",
      "    babel-2.9.0                |     pyhd3eb1b0_0         5.5 MB\n",
      "    backcall-0.2.0             |             py_0          15 KB\n",
      "    backports-1.0              |     pyhd3eb1b0_2         210 KB\n",
      "    beautifulsoup4-4.9.3       |     pyhb0f4dca_0          91 KB\n",
      "    binutils_impl_linux-64-2.33.1|       he6710b0_7         3.7 MB\n",
      "    binutils_linux-64-2.33.1   |      h9595d00_15          26 KB\n",
      "    bitarray-1.6.1             |   py36h27cfd23_0          92 KB\n",
      "    bleach-3.2.1               |             py_0         112 KB\n",
      "    blinker-1.4                |           py36_0          22 KB\n",
      "    blosc-1.20.1               |       hd408876_0          71 KB\n",
      "    bokeh-2.2.3                |           py36_0         5.4 MB\n",
      "    boto3-1.16.30              |     pyhd3eb1b0_0          70 KB\n",
      "    botocore-1.19.30           |     pyhd3eb1b0_0         3.4 MB\n",
      "    bottleneck-1.3.2           |   py36heb32a55_1         124 KB\n",
      "    brotli-1.0.9               |       he6710b0_2         375 KB\n",
      "    brotlipy-0.7.0             |py36h27cfd23_1003         320 KB\n",
      "    c-ares-1.17.1              |       h27cfd23_0         108 KB\n",
      "    ca-certificates-2020.10.14 |                0         121 KB\n",
      "    cachetools-4.1.1           |             py_0          12 KB\n",
      "    certifi-2020.12.5          |   py36h06a4308_0         140 KB\n",
      "    chardet-3.0.4              |py36h06a4308_1003         180 KB\n",
      "    charls-2.1.0               |       he6710b0_2         136 KB\n",
      "    click-7.1.2                |             py_0          71 KB\n",
      "    cloudpickle-1.6.0          |             py_0          30 KB\n",
      "    colorama-0.4.4             |             py_0          18 KB\n",
      "    contextvars-2.4            |             py_0          12 KB\n",
      "    cryptography-3.2.1         |   py36h3c74f83_1         570 KB\n",
      "    curl-7.71.1                |       hbc83047_1         140 KB\n",
      "    cython-0.29.21             |   py36h2531618_0         1.9 MB\n",
      "    cytoolz-0.11.0             |   py36h7b6447c_0         329 KB\n",
      "    dask-2.30.0                |             py_0           5 KB\n",
      "    dask-core-2.30.0           |             py_0         605 KB\n",
      "    dbus-1.13.18               |       hb2f20db_0         504 KB\n",
      "    decorator-4.4.2            |             py_0          14 KB\n",
      "    diff-match-patch-20200713  |             py_0          36 KB\n",
      "    distributed-2.30.1         |   py36h06a4308_0        1011 KB\n",
      "    docutils-0.15.2            |           py36_0         660 KB\n",
      "    et_xmlfile-1.0.1           |          py_1001          12 KB\n",
      "    expat-2.2.10               |       he6710b0_2         153 KB\n",
      "    flake8-3.8.4               |             py_0         128 KB\n",
      "    flask-1.1.2                |             py_0          78 KB\n",
      "    freetype-2.10.4            |       h5ab3b9f_0         596 KB\n",
      "    fribidi-1.0.10             |       h7b6447c_0         103 KB\n",
      "    fsspec-0.8.3               |             py_0          72 KB\n",
      "    future-0.18.2              |           py36_1         639 KB\n",
      "    gast-0.3.3                 |             py_0          14 KB\n",
      "    gcc_linux-64-7.3.0         |      h553295d_15          27 KB\n",
      "    gevent-20.9.0              |   py36h7b6447c_0         1.6 MB\n",
      "    giflib-5.1.4               |       h14c3975_1          68 KB\n",
      "    google-auth-1.21.3         |             py_0          57 KB\n",
      "    google-auth-oauthlib-0.4.2 |     pyhd3eb1b0_2          18 KB\n",
      "    google-pasta-0.2.0         |             py_0          46 KB\n",
      "    graphite2-1.3.14           |       h23475e2_0          99 KB\n",
      "    greenlet-0.4.17            |   py36h7b6447c_0          22 KB\n",
      "    grpcio-1.31.0              |   py36hf8bcb03_0         2.0 MB\n",
      "    gxx_linux-64-7.3.0         |      h553295d_15          26 KB\n",
      "    html5lib-1.1               |             py_0          93 KB\n",
      "    hypothesis-5.41.5          |     pyhd3eb1b0_0         232 KB\n",
      "    icu-58.2                   |       he6710b0_3        10.5 MB\n",
      "    idna-2.10                  |             py_0          50 KB\n",
      "    imagecodecs-2020.5.30      |   py36hfa7d478_2         5.5 MB\n",
      "    imageio-2.9.0              |             py_0         3.0 MB\n",
      "    immutables-0.14            |   py36h7b6447c_0          70 KB\n",
      "    importlib-metadata-2.0.0   |             py_1          35 KB\n",
      "    importlib_metadata-2.0.0   |                1          11 KB\n",
      "    iniconfig-1.1.1            |             py_0           9 KB\n",
      "    intel-openmp-2020.2        |              254         786 KB\n",
      "    intervaltree-3.1.0         |             py_0          26 KB\n",
      "    ipykernel-5.3.4            |   py36h5ca1d4c_0         181 KB\n",
      "    ipython-7.16.1             |   py36h5ca1d4c_0         999 KB\n",
      "    ipython_genutils-0.2.0     |     pyhd3eb1b0_1          27 KB\n",
      "    isort-5.6.4                |             py_0          78 KB\n",
      "    jedi-0.17.2                |   py36h06a4308_1         919 KB\n",
      "    jeepney-0.6.0              |     pyhd3eb1b0_0          32 KB\n",
      "    jinja2-2.11.2              |             py_0         103 KB\n",
      "    joblib-0.17.0              |             py_0         206 KB\n",
      "    json5-0.9.5                |             py_0          22 KB\n",
      "    jsonschema-3.2.0           |             py_2          47 KB\n",
      "    jupyter_client-6.1.7       |             py_0          77 KB\n",
      "    jupyter_console-6.2.0      |             py_0          26 KB\n",
      "    jupyter_core-4.7.0         |   py36h06a4308_0          68 KB\n",
      "    jxrlib-1.1                 |       h7b6447c_2         223 KB\n",
      "    keras-applications-1.0.8   |             py_1          29 KB\n",
      "    keras-preprocessing-1.1.0  |             py_1          37 KB\n",
      "    keyring-21.4.0             |           py36_1          52 KB\n",
      "    kiwisolver-1.3.0           |   py36h2531618_0          80 KB\n",
      "    krb5-1.18.2                |       h173b8e3_0         1.3 MB\n",
      "    lazy-object-proxy-1.5.2    |   py36h27cfd23_0          27 KB\n",
      "    lcms2-2.11                 |       h396b838_0         307 KB\n",
      "    libaec-1.0.4               |       he6710b0_1          32 KB\n",
      "    libarchive-3.4.2           |       h62408e4_0         796 KB\n",
      "    libcurl-7.71.1             |       h20c2e04_1         305 KB\n",
      "    libedit-3.1.20191231       |       h14c3975_1         116 KB\n",
      "    libffi-3.2.1               |    hf484d3e_1007          48 KB\n",
      "    libgpuarray-0.7.6          |       h14c3975_0         212 KB\n",
      "    liblief-0.10.1             |       he6710b0_0         1.7 MB\n",
      "    libllvm10-10.0.1           |       hbcb73fb_5        22.1 MB\n",
      "    libprotobuf-3.13.0.1       |       hd408876_0         2.0 MB\n",
      "    libsodium-1.0.18           |       h7b6447c_0         244 KB\n",
      "    libssh2-1.9.0              |       h1ba5d50_1         269 KB\n",
      "    libtiff-4.1.0              |       h2733197_1         449 KB\n",
      "    libtool-2.4.6              |    h7b6447c_1005         394 KB\n",
      "    libwebp-1.0.1              |       h8e7db2f_0         471 KB\n",
      "    libxcb-1.14                |       h7b6447c_0         505 KB\n",
      "    libxml2-2.9.10             |       hb55368b_3         1.2 MB\n",
      "    libxslt-1.1.34             |       hc22bd24_0         432 KB\n",
      "    libzopfli-1.0.3            |       he6710b0_0         171 KB\n",
      "    llvmlite-0.34.0            |   py36h269e1b5_4         293 KB\n",
      "    lxml-4.6.2                 |   py36h9120a33_0         1.2 MB\n",
      "    lz4-c-1.9.2                |       heb0550a_3         175 KB\n",
      "    lzo-2.10                   |       h7b6447c_2         184 KB\n",
      "    mako-1.1.3                 |             py_0          62 KB\n",
      "    markdown-3.3.3             |   py36h06a4308_0         128 KB\n",
      "    matplotlib-3.3.2           |                0          24 KB\n",
      "    matplotlib-base-3.3.2      |   py36h817c723_0         5.1 MB\n",
      "    mkl-2020.2                 |              256       138.3 MB\n",
      "    mkl-service-2.3.0          |   py36he8ac12f_0          52 KB\n",
      "    mkl_fft-1.2.0              |   py36h23d657b_0         149 KB\n",
      "    mkl_random-1.1.1           |   py36h0573a6f_0         327 KB\n",
      "    mock-4.0.2                 |             py_0          32 KB\n",
      "    more-itertools-8.6.0       |     pyhd3eb1b0_0          40 KB\n",
      "    mpfr-4.0.2                 |       hb69a4c5_1         487 KB\n",
      "    msgpack-python-1.0.0       |   py36hfd86e86_1          90 KB\n",
      "    nbformat-5.0.8             |             py_0          88 KB\n",
      "    ncurses-6.2                |       he6710b0_1         817 KB\n",
      "    networkx-2.5               |             py_0         1.1 MB\n",
      "    nltk-3.5                   |             py_0         976 KB\n",
      "    nose-1.3.7                 |  pyhd3eb1b0_1006         128 KB\n",
      "    numba-0.51.2               |   py36h0573a6f_1         3.2 MB\n",
      "    numpy-1.19.2               |   py36h54aff64_0          22 KB\n",
      "    numpy-base-1.19.2          |   py36hfa32c7d_0         4.1 MB\n",
      "    oauthlib-3.1.0             |             py_0          91 KB\n",
      "    openjpeg-2.3.0             |       h05c96fa_1         301 KB\n",
      "    openpyxl-3.0.5             |             py_0         158 KB\n",
      "    openssl-1.1.1h             |       h7b6447c_0         2.5 MB\n",
      "    opt_einsum-3.1.0           |             py_0          54 KB\n",
      "    packaging-20.7             |     pyhd3eb1b0_0          33 KB\n",
      "    pandas-1.1.3               |   py36he6710b0_0         8.2 MB\n",
      "    pandoc-2.11                |       hb0f4dca_0         9.6 MB\n",
      "    pandocfilters-1.4.3        |   py36h06a4308_1          14 KB\n",
      "    parso-0.7.0                |             py_0          72 KB\n",
      "    patchelf-0.12              |       he6710b0_0          83 KB\n",
      "    path-15.0.0                |           py36_0          38 KB\n",
      "    path.py-12.5.0             |                0           4 KB\n",
      "    pathlib2-2.3.5             |   py36h06a4308_2          37 KB\n",
      "    pcre-8.44                  |       he6710b0_0         212 KB\n",
      "    pexpect-4.8.0              |     pyhd3eb1b0_3          53 KB\n",
      "    pickleshare-0.7.5          |  pyhd3eb1b0_1003          13 KB\n",
      "    pillow-8.0.1               |   py36he98fc37_0         621 KB\n",
      "    pip-20.3.1                 |   py36h06a4308_0         1.8 MB\n",
      "    pixman-0.40.0              |       h7b6447c_0         370 KB\n",
      "    pkginfo-1.6.1              |   py36h06a4308_0          43 KB\n",
      "    prometheus_client-0.9.0    |     pyhd3eb1b0_0          45 KB\n",
      "    prompt-toolkit-3.0.8       |             py_0         248 KB\n",
      "    prompt_toolkit-3.0.8       |                0          12 KB\n",
      "    protobuf-3.13.0.1          |   py36he6710b0_1         633 KB\n",
      "    psutil-5.7.2               |   py36h7b6447c_0         327 KB\n",
      "    ptyprocess-0.6.0           |     pyhd3eb1b0_2          20 KB\n",
      "    py-1.9.0                   |             py_0          79 KB\n",
      "    py-lief-0.10.1             |   py36h403a769_0         921 KB\n",
      "    pyasn1-0.4.8               |             py_0          57 KB\n",
      "    pyasn1-modules-0.2.8       |             py_0          72 KB\n",
      "    pycodestyle-2.6.0          |             py_0          43 KB\n",
      "    pycosat-0.6.3              |   py36h27cfd23_0          82 KB\n",
      "    pycparser-2.20             |             py_2          94 KB\n",
      "    pycrypto-2.6.1             |  py36h7b6447c_10         385 KB\n",
      "    pycurl-7.43.0.6            |   py36h1ba5d50_0          66 KB\n",
      "    pydocstyle-5.1.1           |             py_0          38 KB\n",
      "    pyflakes-2.2.0             |             py_0          61 KB\n",
      "    pygments-2.7.3             |     pyhd3eb1b0_0         676 KB\n",
      "    pygpu-0.7.6                |   py36heb32a55_0         501 KB\n",
      "    pyjwt-1.7.1                |           py36_0          33 KB\n",
      "    pylint-2.3.1               |           py36_0         797 KB\n",
      "    pyopenssl-20.0.0           |     pyhd3eb1b0_1          49 KB\n",
      "    pyparsing-2.4.7            |             py_0          65 KB\n",
      "    pyrsistent-0.17.3          |   py36h7b6447c_0          89 KB\n",
      "    pysocks-1.7.1              |   py36h06a4308_0          31 KB\n",
      "    pytest-6.1.2               |   py36h06a4308_0         408 KB\n",
      "    pytest-doctestplus-0.8.0   |             py_0          22 KB\n",
      "    pytest-openfiles-0.5.0     |             py_0          11 KB\n",
      "    python-3.6.10              |       hcf32534_1        29.7 MB\n",
      "    python-jsonrpc-server-0.4.0|             py_0          12 KB\n",
      "    python-language-server-0.35.1|             py_0          48 KB\n",
      "    python-libarchive-c-2.9    |             py_0          46 KB\n",
      "    pytz-2020.4                |     pyhd3eb1b0_0         180 KB\n",
      "    pywavelets-1.1.1           |   py36h7b6447c_2         3.5 MB\n",
      "    pyxdg-0.27                 |     pyhd3eb1b0_0          45 KB\n",
      "    pyyaml-5.3.1               |   py36h7b6447c_1         180 KB\n",
      "    pyzmq-20.0.0               |   py36h2531618_1         438 KB\n",
      "    qdarkstyle-2.8.1           |             py_0         176 KB\n",
      "    qtawesome-1.0.1            |             py_0         757 KB\n",
      "    qtconsole-4.7.7            |             py_0          96 KB\n",
      "    readline-8.0               |       h7b6447c_0         356 KB\n",
      "    regex-2020.11.13           |   py36h27cfd23_0         318 KB\n",
      "    requests-2.25.0            |     pyhd3eb1b0_0          52 KB\n",
      "    requests-oauthlib-1.3.0    |             py_0          23 KB\n",
      "    ripgrep-12.1.1             |                0         1.4 MB\n",
      "    rope-0.18.0                |             py_0         126 KB\n",
      "    rsa-4.6                    |             py_0          26 KB\n",
      "    rtree-0.9.4                |           py36_1          47 KB\n",
      "    ruamel_yaml-0.15.87        |   py36h7b6447c_1         244 KB\n",
      "    s3transfer-0.3.3           |     pyhd3eb1b0_3          53 KB\n",
      "    scikit-image-0.17.2        |   py36hdf5156a_0         9.2 MB\n",
      "    scikit-learn-0.23.2        |   py36h0573a6f_0         5.0 MB\n",
      "    scipy-1.5.2                |   py36h0b6359f_0        14.4 MB\n",
      "    seaborn-0.11.0             |             py_0         210 KB\n",
      "    secretstorage-3.3.0        |   py36h06a4308_0          24 KB\n",
      "    setuptools-51.0.0          |   py36h06a4308_2         712 KB\n",
      "    singledispatch-3.4.0.3     |          py_1001          12 KB\n",
      "    six-1.15.0                 |   py36h06a4308_0          27 KB\n",
      "    snappy-1.1.8               |       he6710b0_0          40 KB\n",
      "    sortedcollections-1.2.1    |             py_0          13 KB\n",
      "    sortedcontainers-2.3.0     |     pyhd3eb1b0_0          26 KB\n",
      "    soupsieve-2.0.1            |             py_0          33 KB\n",
      "    sphinxcontrib-applehelp-1.0.2|             py_0          27 KB\n",
      "    sphinxcontrib-devhelp-1.0.2|             py_0          22 KB\n",
      "    sphinxcontrib-htmlhelp-1.0.3|             py_0          27 KB\n",
      "    sphinxcontrib-qthelp-1.0.3 |             py_0          25 KB\n",
      "    sphinxcontrib-serializinghtml-1.1.4|             py_0          24 KB\n",
      "    sphinxcontrib-websupport-1.2.4|             py_0          34 KB\n",
      "    spyder-3.2.8               |           py36_0         2.1 MB\n",
      "    spyder-kernels-1.10.0      |   py36h06a4308_0          99 KB\n",
      "    sqlalchemy-1.3.20          |   py36h7b6447c_0         1.5 MB\n",
      "    sqlite-3.33.0              |       h62c20be_0         1.1 MB\n",
      "    statsmodels-0.12.1         |   py36h27cfd23_0         8.5 MB\n",
      "    sympy-1.6.2                |   py36h06a4308_1         8.6 MB\n",
      "    tbb-2020.3                 |       hfd86e86_0         1.1 MB\n",
      "    tblib-1.7.0                |             py_0          16 KB\n",
      "    tensorboard-2.3.0          |     pyh4dce500_0         5.2 MB\n",
      "    tensorboard-plugin-wit-1.6.0|             py_0         630 KB\n",
      "    tensorflow-2.2.0           |mkl_py36h5a57954_0           4 KB\n",
      "    tensorflow-base-2.2.0      |mkl_py36hd506778_0       129.7 MB\n",
      "    tensorflow-estimator-2.2.0 |     pyh208ff02_0         254 KB\n",
      "    termcolor-1.1.0            |           py36_1           8 KB\n",
      "    terminado-0.9.1            |           py36_0          27 KB\n",
      "    theano-1.0.4               |   py36hfd86e86_0         3.2 MB\n",
      "    threadpoolctl-2.1.0        |     pyh5ca1d4c_0          17 KB\n",
      "    tifffile-2020.12.4         |     pyhd3eb1b0_0         127 KB\n",
      "    tk-8.6.10                  |       hbc83047_0         3.0 MB\n",
      "    toml-0.10.1                |             py_0          20 KB\n",
      "    toolz-0.11.1               |             py_0          48 KB\n",
      "    tornado-6.1                |   py36h27cfd23_0         581 KB\n",
      "    tqdm-4.54.1                |     pyhd3eb1b0_0          55 KB\n",
      "    typing_extensions-3.7.4.3  |             py_0          28 KB\n",
      "    ujson-4.0.1                |   py36he6710b0_0          46 KB\n",
      "    unixodbc-2.3.9             |       h7b6447c_0         276 KB\n",
      "    urllib3-1.25.11            |             py_0          99 KB\n",
      "    watchdog-0.10.4            |   py36h06a4308_0          92 KB\n",
      "    wcwidth-0.2.5              |             py_0          29 KB\n",
      "    werkzeug-1.0.1             |             py_0         240 KB\n",
      "    wheel-0.36.1               |     pyhd3eb1b0_0          32 KB\n",
      "    wrapt-1.12.1               |   py36h7b6447c_1          49 KB\n",
      "    wurlitzer-2.0.1            |           py36_0          14 KB\n",
      "    xlsxwriter-1.3.7           |             py_0         108 KB\n",
      "    xz-5.2.5                   |       h7b6447c_0         341 KB\n",
      "    yaml-0.2.5                 |       h7b6447c_0          75 KB\n",
      "    yapf-0.30.0                |             py_0         127 KB\n",
      "    zeromq-4.3.3               |       he6710b0_3         500 KB\n",
      "    zict-2.0.0                 |             py_0          13 KB\n",
      "    zipp-3.4.0                 |     pyhd3eb1b0_0          15 KB\n",
      "    zope.event-4.5.0           |           py36_0         209 KB\n",
      "    zope.interface-5.2.0       |   py36h27cfd23_0         276 KB\n",
      "    zstd-1.4.5                 |       h9ceee32_0         619 KB\n",
      "    ------------------------------------------------------------\n",
      "                                           Total:       517.9 MB\n",
      "\n",
      "The following NEW packages will be INSTALLED:\n",
      "\n",
      "  _tflow_select      pkgs/main/linux-64::_tflow_select-2.3.0-mkl\n",
      "  absl-py            pkgs/main/noarch::absl-py-0.11.0-pyhd3eb1b0_1\n",
      "  astroid            pkgs/main/linux-64::astroid-2.3.3-py36_0\n",
      "  astunparse         pkgs/main/noarch::astunparse-1.6.3-py_0\n",
      "  binutils_impl_lin~ pkgs/main/linux-64::binutils_impl_linux-64-2.33.1-he6710b0_7\n",
      "  binutils_linux-64  pkgs/main/linux-64::binutils_linux-64-2.33.1-h9595d00_15\n",
      "  bleach             pkgs/main/noarch::bleach-3.2.1-py_0\n",
      "  blinker            pkgs/main/linux-64::blinker-1.4-py36_0\n",
      "  boto3              pkgs/main/noarch::boto3-1.16.30-pyhd3eb1b0_0\n",
      "  botocore           pkgs/main/noarch::botocore-1.19.30-pyhd3eb1b0_0\n",
      "  brotli             pkgs/main/linux-64::brotli-1.0.9-he6710b0_2\n",
      "  brotlipy           pkgs/main/linux-64::brotlipy-0.7.0-py36h27cfd23_1003\n",
      "  c-ares             pkgs/main/linux-64::c-ares-1.17.1-h27cfd23_0\n",
      "  cachetools         pkgs/main/noarch::cachetools-4.1.1-py_0\n",
      "  charls             pkgs/main/linux-64::charls-2.1.0-he6710b0_2\n",
      "  contextvars        pkgs/main/noarch::contextvars-2.4-py_0\n",
      "  docutils           pkgs/main/linux-64::docutils-0.15.2-py36_0\n",
      "  gast               pkgs/main/noarch::gast-0.3.3-py_0\n",
      "  gcc_impl_linux-64  pkgs/main/linux-64::gcc_impl_linux-64-7.3.0-habb00fd_1\n",
      "  gcc_linux-64       pkgs/main/linux-64::gcc_linux-64-7.3.0-h553295d_15\n",
      "  giflib             pkgs/main/linux-64::giflib-5.1.4-h14c3975_1\n",
      "  google-auth        pkgs/main/noarch::google-auth-1.21.3-py_0\n",
      "  google-auth-oauth~ pkgs/main/noarch::google-auth-oauthlib-0.4.2-pyhd3eb1b0_2\n",
      "  google-pasta       pkgs/main/noarch::google-pasta-0.2.0-py_0\n",
      "  grpcio             pkgs/main/linux-64::grpcio-1.31.0-py36hf8bcb03_0\n",
      "  gxx_impl_linux-64  pkgs/main/linux-64::gxx_impl_linux-64-7.3.0-hdf63c60_1\n",
      "  gxx_linux-64       pkgs/main/linux-64::gxx_linux-64-7.3.0-h553295d_15\n",
      "  imagecodecs        pkgs/main/linux-64::imagecodecs-2020.5.30-py36hfa7d478_2\n",
      "  immutables         pkgs/main/linux-64::immutables-0.14-py36h7b6447c_0\n",
      "  importlib-metadata pkgs/main/noarch::importlib-metadata-2.0.0-py_1\n",
      "  iniconfig          pkgs/main/noarch::iniconfig-1.1.1-py_0\n",
      "  jxrlib             pkgs/main/linux-64::jxrlib-1.1-h7b6447c_2\n",
      "  lcms2              pkgs/main/linux-64::lcms2-2.11-h396b838_0\n",
      "  libaec             pkgs/main/linux-64::libaec-1.0.4-he6710b0_1\n",
      "  libllvm10          pkgs/main/linux-64::libllvm10-10.0.1-hbcb73fb_5\n",
      "  libwebp            pkgs/main/linux-64::libwebp-1.0.1-h8e7db2f_0\n",
      "  libzopfli          pkgs/main/linux-64::libzopfli-1.0.3-he6710b0_0\n",
      "  markdown           pkgs/main/linux-64::markdown-3.3.3-py36h06a4308_0\n",
      "  oauthlib           pkgs/main/noarch::oauthlib-3.1.0-py_0\n",
      "  openjpeg           pkgs/main/linux-64::openjpeg-2.3.0-h05c96fa_1\n",
      "  opt_einsum         pkgs/main/noarch::opt_einsum-3.1.0-py_0\n",
      "  pip                pkgs/main/linux-64::pip-20.3.1-py36h06a4308_0\n",
      "  prompt-toolkit     pkgs/main/noarch::prompt-toolkit-3.0.8-py_0\n",
      "  pyasn1             pkgs/main/noarch::pyasn1-0.4.8-py_0\n",
      "  pyasn1-modules     pkgs/main/noarch::pyasn1-modules-0.2.8-py_0\n",
      "  pyjwt              pkgs/main/linux-64::pyjwt-1.7.1-py36_0\n",
      "  pylint             pkgs/main/linux-64::pylint-2.3.1-py36_0\n",
      "  regex              pkgs/main/linux-64::regex-2020.11.13-py36h27cfd23_0\n",
      "  requests-oauthlib  pkgs/main/noarch::requests-oauthlib-1.3.0-py_0\n",
      "  rsa                pkgs/main/noarch::rsa-4.6-py_0\n",
      "  s3transfer         pkgs/main/noarch::s3transfer-0.3.3-pyhd3eb1b0_3\n",
      "  tensorboard        pkgs/main/noarch::tensorboard-2.3.0-pyh4dce500_0\n",
      "  tensorboard-plugi~ pkgs/main/noarch::tensorboard-plugin-wit-1.6.0-py_0\n",
      "  tensorflow         pkgs/main/linux-64::tensorflow-2.2.0-mkl_py36h5a57954_0\n",
      "  tensorflow-base    pkgs/main/linux-64::tensorflow-base-2.2.0-mkl_py36hd506778_0\n",
      "  tensorflow-estima~ pkgs/main/noarch::tensorflow-estimator-2.2.0-pyh208ff02_0\n",
      "  termcolor          pkgs/main/linux-64::termcolor-1.1.0-py36_1\n",
      "  threadpoolctl      pkgs/main/noarch::threadpoolctl-2.1.0-pyh5ca1d4c_0\n",
      "  tifffile           pkgs/main/noarch::tifffile-2020.12.4-pyhd3eb1b0_0\n",
      "  toml               pkgs/main/noarch::toml-0.10.1-py_0\n",
      "  typing_extensions  pkgs/main/noarch::typing_extensions-3.7.4.3-py_0\n",
      "  urllib3            pkgs/main/noarch::urllib3-1.25.11-py_0\n",
      "  zope               pkgs/main/linux-64::zope-1.0-py36_1\n",
      "  zope.event         pkgs/main/linux-64::zope.event-4.5.0-py36_0\n",
      "  zope.interface     pkgs/main/linux-64::zope.interface-5.2.0-py36h27cfd23_0\n",
      "\n",
      "The following packages will be UPDATED:\n",
      "\n",
      "  asn1crypto         pkgs/main/linux-64::asn1crypto-1.3.0-~ --> pkgs/main/noarch::asn1crypto-1.4.0-py_0\n",
      "  astropy                                4.0-py36h7b6447c_0 --> 4.0.2-py36h7b6447c_0\n",
      "  atomicwrites       pkgs/main/linux-64::atomicwrites-1.3.~ --> pkgs/main/noarch::atomicwrites-1.4.0-py_0\n",
      "  attrs                                         19.3.0-py_0 --> 20.3.0-pyhd3eb1b0_0\n",
      "  autopep8                                       1.4.4-py_0 --> 1.5.4-py_0\n",
      "  babel                                          2.8.0-py_0 --> 2.9.0-pyhd3eb1b0_0\n",
      "  backcall           pkgs/main/linux-64::backcall-0.1.0-py~ --> pkgs/main/noarch::backcall-0.2.0-py_0\n",
      "  beautifulsoup4     pkgs/main/linux-64::beautifulsoup4-4.~ --> pkgs/main/noarch::beautifulsoup4-4.9.3-pyhb0f4dca_0\n",
      "  bitarray                             1.2.1-py36h7b6447c_0 --> 1.6.1-py36h27cfd23_0\n",
      "  blosc                                   1.16.3-hd408876_0 --> 1.20.1-hd408876_0\n",
      "  bokeh                                        1.4.0-py36_0 --> 2.2.3-py36_0\n",
      "  bottleneck                           1.3.2-py36heb32a55_0 --> 1.3.2-py36heb32a55_1\n",
      "  ca-certificates    conda-forge::ca-certificates-2020.6.2~ --> pkgs/main::ca-certificates-2020.10.14-0\n",
      "  certifi            conda-forge::certifi-2020.6.20-py36h9~ --> pkgs/main::certifi-2020.12.5-py36h06a4308_0\n",
      "  click                pkgs/main/linux-64::click-7.0-py36_0 --> pkgs/main/noarch::click-7.1.2-py_0\n",
      "  cloudpickle                                    1.3.0-py_0 --> 1.6.0-py_0\n",
      "  colorama                                       0.4.3-py_0 --> 0.4.4-py_0\n",
      "  cryptography                           2.8-py36h1ba5d50_0 --> 3.2.1-py36h3c74f83_1\n",
      "  curl                                    7.68.0-hbc83047_0 --> 7.71.1-hbc83047_1\n",
      "  cython                             0.29.15-py36he6710b0_0 --> 0.29.21-py36h2531618_0\n",
      "  cytoolz                             0.10.1-py36h7b6447c_0 --> 0.11.0-py36h7b6447c_0\n",
      "  dask                                          2.11.0-py_0 --> 2.30.0-py_0\n",
      "  dask-core                                     2.11.0-py_0 --> 2.30.0-py_0\n",
      "  dbus                                   1.13.12-h746ee38_0 --> 1.13.18-hb2f20db_0\n",
      "  decorator                                      4.4.1-py_0 --> 4.4.2-py_0\n",
      "  diff-match-patch                            20181111-py_0 --> 20200713-py_0\n",
      "  distributed                                 2.11.0-py36_0 --> 2.30.1-py36h06a4308_0\n",
      "  et_xmlfile         pkgs/main/linux-64::et_xmlfile-1.0.1-~ --> pkgs/main/noarch::et_xmlfile-1.0.1-py_1001\n",
      "  expat                                    2.2.6-he6710b0_0 --> 2.2.10-he6710b0_2\n",
      "  flake8             pkgs/main/linux-64::flake8-3.7.9-py36~ --> pkgs/main/noarch::flake8-3.8.4-py_0\n",
      "  flask                                          1.1.1-py_0 --> 1.1.2-py_0\n",
      "  freetype                                 2.9.1-h8a8886c_1 --> 2.10.4-h5ab3b9f_0\n",
      "  fribidi                                  1.0.5-h7b6447c_0 --> 1.0.10-h7b6447c_0\n",
      "  fsspec                                         0.6.2-py_0 --> 0.8.3-py_0\n",
      "  future                                      0.18.2-py36_0 --> 0.18.2-py36_1\n",
      "  gevent                               1.4.0-py36h7b6447c_0 --> 20.9.0-py36h7b6447c_0\n",
      "  graphite2                               1.3.13-h23475e2_0 --> 1.3.14-h23475e2_0\n",
      "  greenlet                            0.4.15-py36h7b6447c_0 --> 0.4.17-py36h7b6447c_0\n",
      "  html5lib           pkgs/main/linux-64::html5lib-1.0.1-py~ --> pkgs/main/noarch::html5lib-1.1-py_0\n",
      "  hypothesis                                     5.5.4-py_0 --> 5.41.5-pyhd3eb1b0_0\n",
      "  icu                                       58.2-h9c2bf20_1 --> 58.2-he6710b0_3\n",
      "  idna                  pkgs/main/linux-64::idna-2.8-py36_0 --> pkgs/main/noarch::idna-2.10-py_0\n",
      "  imageio            pkgs/main/linux-64::imageio-2.6.1-py3~ --> pkgs/main/noarch::imageio-2.9.0-py_0\n",
      "  importlib_metadata pkgs/main/linux-64::importlib_metadat~ --> pkgs/main/noarch::importlib_metadata-2.0.0-1\n",
      "  intel-openmp                                   2020.0-166 --> 2020.2-254\n",
      "  intervaltree                                   3.0.2-py_0 --> 3.1.0-py_0\n",
      "  ipykernel                            5.1.4-py36h39e3cac_0 --> 5.3.4-py36h5ca1d4c_0\n",
      "  ipython                             7.12.0-py36h5ca1d4c_0 --> 7.16.1-py36h5ca1d4c_0\n",
      "  ipython_genutils   pkgs/main/linux-64::ipython_genutils-~ --> pkgs/main/noarch::ipython_genutils-0.2.0-pyhd3eb1b0_1\n",
      "  isort              pkgs/main/linux-64::isort-4.3.21-py36~ --> pkgs/main/noarch::isort-5.6.4-py_0\n",
      "  jedi                                        0.14.1-py36_0 --> 0.17.2-py36h06a4308_1\n",
      "  jeepney                                        0.4.2-py_0 --> 0.6.0-pyhd3eb1b0_0\n",
      "  jinja2                                        2.11.1-py_0 --> 2.11.2-py_0\n",
      "  joblib                                        0.14.1-py_0 --> 0.17.0-py_0\n",
      "  json5                                          0.9.1-py_0 --> 0.9.5-py_0\n",
      "  jsonschema         pkgs/main/linux-64::jsonschema-3.2.0-~ --> pkgs/main/noarch::jsonschema-3.2.0-py_2\n",
      "  jupyter_client     pkgs/main/linux-64::jupyter_client-5.~ --> pkgs/main/noarch::jupyter_client-6.1.7-py_0\n",
      "  jupyter_console                                6.1.0-py_0 --> 6.2.0-py_0\n",
      "  jupyter_core                                 4.6.1-py36_0 --> 4.7.0-py36h06a4308_0\n",
      "  keras-preprocessi~ conda-forge::keras-preprocessing-1.1.~ --> pkgs/main::keras-preprocessing-1.1.0-py_1\n",
      "  keyring                                     21.1.0-py36_0 --> 21.4.0-py36_1\n",
      "  kiwisolver                           1.1.0-py36he6710b0_0 --> 1.3.0-py36h2531618_0\n",
      "  krb5                                    1.17.1-h173b8e3_0 --> 1.18.2-h173b8e3_0\n",
      "  lazy-object-proxy                    1.4.3-py36h7b6447c_0 --> 1.5.2-py36h27cfd23_0\n",
      "  libarchive                               3.3.3-h5d8350f_5 --> 3.4.2-h62408e4_0\n",
      "  libcurl                                 7.68.0-h20c2e04_0 --> 7.71.1-h20c2e04_1\n",
      "  libedit                           3.1.20181209-hc058e9b_0 --> 3.1.20191231-h14c3975_1\n",
      "  libffi                                   3.2.1-hd88cf55_4 --> 3.2.1-hf484d3e_1007\n",
      "  liblief                                  0.9.0-h7725739_2 --> 0.10.1-he6710b0_0\n",
      "  libprotobuf        conda-forge::libprotobuf-3.11.4-h8b12~ --> pkgs/main::libprotobuf-3.13.0.1-hd408876_0\n",
      "  libsodium                               1.0.16-h1bed415_0 --> 1.0.18-h7b6447c_0\n",
      "  libssh2                                  1.8.2-h1ba5d50_0 --> 1.9.0-h1ba5d50_1\n",
      "  libtiff                                  4.1.0-h2733197_0 --> 4.1.0-h2733197_1\n",
      "  libtool                                  2.4.6-h7b6447c_5 --> 2.4.6-h7b6447c_1005\n",
      "  libxcb                                    1.13-h1bed415_1 --> 1.14-h7b6447c_0\n",
      "  libxml2                                  2.9.9-hea5a465_1 --> 2.9.10-hb55368b_3\n",
      "  libxslt                                 1.1.33-h7d1a2b0_0 --> 1.1.34-hc22bd24_0\n",
      "  llvmlite                            0.31.0-py36hd408876_0 --> 0.34.0-py36h269e1b5_4\n",
      "  lxml                                 4.5.0-py36hefd8a0e_0 --> 4.6.2-py36h9120a33_0\n",
      "  lz4-c                                  1.8.1.2-h14c3975_0 --> 1.9.2-heb0550a_3\n",
      "  matplotlib                                   3.1.3-py36_0 --> 3.3.2-0\n",
      "  matplotlib-base                      3.1.3-py36hef1b27d_0 --> 3.3.2-py36h817c723_0\n",
      "  mkl                                            2020.0-166 --> 2020.2-256\n",
      "  mkl_fft                             1.0.15-py36ha843d7b_0 --> 1.2.0-py36h23d657b_0\n",
      "  mkl_random                           1.1.0-py36hd6b4f25_0 --> 1.1.1-py36h0573a6f_0\n",
      "  mock                                           4.0.1-py_0 --> 4.0.2-py_0\n",
      "  more-itertools                                 8.2.0-py_0 --> 8.6.0-pyhd3eb1b0_0\n",
      "  mpfr                                     4.0.1-hdf1c602_3 --> 4.0.2-hb69a4c5_1\n",
      "  msgpack-python                       0.6.1-py36hfd86e86_1 --> 1.0.0-py36hfd86e86_1\n",
      "  nbformat                                       5.0.4-py_0 --> 5.0.8-py_0\n",
      "  ncurses                                    6.2-he6710b0_0 --> 6.2-he6710b0_1\n",
      "  networkx                                         2.4-py_0 --> 2.5-py_0\n",
      "  nltk                pkgs/main/linux-64::nltk-3.4.5-py36_0 --> pkgs/main/noarch::nltk-3.5-py_0\n",
      "  nose                pkgs/main/linux-64::nose-1.3.7-py36_2 --> pkgs/main/noarch::nose-1.3.7-pyhd3eb1b0_1006\n",
      "  numba                               0.48.0-py36h0573a6f_0 --> 0.51.2-py36h0573a6f_1\n",
      "  numpy                               1.18.1-py36h4f9e942_0 --> 1.19.2-py36h54aff64_0\n",
      "  numpy-base                          1.18.1-py36hde5b4d6_1 --> 1.19.2-py36hfa32c7d_0\n",
      "  openpyxl                                       3.0.3-py_0 --> 3.0.5-py_0\n",
      "  packaging                                       20.1-py_0 --> 20.7-pyhd3eb1b0_0\n",
      "  pandas                               1.0.1-py36h0573a6f_0 --> 1.1.3-py36he6710b0_0\n",
      "  pandoc                                          2.2.3.2-0 --> 2.11-hb0f4dca_0\n",
      "  pandocfilters                                1.4.2-py36_1 --> 1.4.3-py36h06a4308_1\n",
      "  parso                                          0.5.2-py_0 --> 0.7.0-py_0\n",
      "  patchelf                                  0.10-he6710b0_0 --> 0.12-he6710b0_0\n",
      "  path                                        13.1.0-py36_0 --> 15.0.0-py36_0\n",
      "  path.py                                          12.4.0-0 --> 12.5.0-0\n",
      "  pathlib2                                     2.3.5-py36_0 --> 2.3.5-py36h06a4308_2\n",
      "  pcre                                      8.43-he6710b0_0 --> 8.44-he6710b0_0\n",
      "  pexpect            pkgs/main/linux-64::pexpect-4.8.0-py3~ --> pkgs/main/noarch::pexpect-4.8.0-pyhd3eb1b0_3\n",
      "  pickleshare        pkgs/main/linux-64::pickleshare-0.7.5~ --> pkgs/main/noarch::pickleshare-0.7.5-pyhd3eb1b0_1003\n",
      "  pillow                               7.0.0-py36hb39fc2d_0 --> 8.0.1-py36he98fc37_0\n",
      "  pixman                                  0.38.0-h7b6447c_0 --> 0.40.0-h7b6447c_0\n",
      "  pkginfo                                    1.5.0.1-py36_0 --> 1.6.1-py36h06a4308_0\n",
      "  prometheus_client                              0.7.1-py_0 --> 0.9.0-pyhd3eb1b0_0\n",
      "  prompt_toolkit                                 3.0.3-py_0 --> 3.0.8-0\n",
      "  protobuf           conda-forge::protobuf-3.11.4-py36h831~ --> pkgs/main::protobuf-3.13.0.1-py36he6710b0_1\n",
      "  psutil                               5.6.7-py36h7b6447c_0 --> 5.7.2-py36h7b6447c_0\n",
      "  ptyprocess         pkgs/main/linux-64::ptyprocess-0.6.0-~ --> pkgs/main/noarch::ptyprocess-0.6.0-pyhd3eb1b0_2\n",
      "  py                                             1.8.1-py_0 --> 1.9.0-py_0\n",
      "  py-lief                              0.9.0-py36h7725739_2 --> 0.10.1-py36h403a769_0\n",
      "  pycodestyle        pkgs/main/linux-64::pycodestyle-2.5.0~ --> pkgs/main/noarch::pycodestyle-2.6.0-py_0\n",
      "  pycparser          pkgs/main/linux-64::pycparser-2.19-py~ --> pkgs/main/noarch::pycparser-2.20-py_2\n",
      "  pycrypto                             2.6.1-py36h14c3975_9 --> 2.6.1-py36h7b6447c_10\n",
      "  pycurl                            7.43.0.5-py36h1ba5d50_0 --> 7.43.0.6-py36h1ba5d50_0\n",
      "  pydocstyle                                     4.0.1-py_0 --> 5.1.1-py_0\n",
      "  pyflakes           pkgs/main/linux-64::pyflakes-2.1.1-py~ --> pkgs/main/noarch::pyflakes-2.2.0-py_0\n",
      "  pygments                                       2.5.2-py_0 --> 2.7.3-pyhd3eb1b0_0\n",
      "  pyopenssl          pkgs/main/linux-64::pyopenssl-19.1.0-~ --> pkgs/main/noarch::pyopenssl-20.0.0-pyhd3eb1b0_1\n",
      "  pyparsing                                      2.4.6-py_0 --> 2.4.7-py_0\n",
      "  pyrsistent                          0.15.7-py36h7b6447c_0 --> 0.17.3-py36h7b6447c_0\n",
      "  pytest                                       5.3.5-py36_0 --> 6.1.2-py36h06a4308_0\n",
      "  pytest-doctestplus                             0.5.0-py_0 --> 0.8.0-py_0\n",
      "  pytest-openfiles                               0.4.0-py_0 --> 0.5.0-py_0\n",
      "  python                                  3.6.10-h0371630_0 --> 3.6.10-hcf32534_1\n",
      "  python-jsonrpc-se~                             0.3.4-py_0 --> 0.4.0-py_0\n",
      "  python-language-s~ pkgs/main/linux-64::python-language-s~ --> pkgs/main/noarch::python-language-server-0.35.1-py_0\n",
      "  python-libarchive~ pkgs/main/linux-64::python-libarchive~ --> pkgs/main/noarch::python-libarchive-c-2.9-py_0\n",
      "  pytz                                          2019.3-py_0 --> 2020.4-pyhd3eb1b0_0\n",
      "  pywavelets                           1.1.1-py36h7b6447c_0 --> 1.1.1-py36h7b6447c_2\n",
      "  pyxdg                                           0.26-py_0 --> 0.27-pyhd3eb1b0_0\n",
      "  pyyaml                                 5.3-py36h7b6447c_0 --> 5.3.1-py36h7b6447c_1\n",
      "  pyzmq                               18.1.1-py36he6710b0_0 --> 20.0.0-py36h2531618_1\n",
      "  qdarkstyle                                       2.8-py_0 --> 2.8.1-py_0\n",
      "  qtawesome                                      0.6.1-py_0 --> 1.0.1-py_0\n",
      "  qtconsole                                      4.6.0-py_1 --> 4.7.7-py_0\n",
      "  readline                                   7.0-h7b6447c_5 --> 8.0-h7b6447c_0\n",
      "  requests           pkgs/main/linux-64::requests-2.22.0-p~ --> pkgs/main/noarch::requests-2.25.0-pyhd3eb1b0_0\n",
      "  ripgrep                                 11.0.2-he32d670_0 --> 12.1.1-0\n",
      "  rope                                          0.16.0-py_0 --> 0.18.0-py_0\n",
      "  rtree                                        0.9.3-py36_0 --> 0.9.4-py36_1\n",
      "  ruamel_yaml                        0.15.87-py36h7b6447c_0 --> 0.15.87-py36h7b6447c_1\n",
      "  scikit-image                        0.16.2-py36h0573a6f_0 --> 0.17.2-py36hdf5156a_0\n",
      "  scikit-learn                        0.22.1-py36hd81dba3_0 --> 0.23.2-py36h0573a6f_0\n",
      "  scipy                                1.4.1-py36h0b6359f_0 --> 1.5.2-py36h0b6359f_0\n",
      "  seaborn                                       0.10.0-py_0 --> 0.11.0-py_0\n",
      "  secretstorage                                3.1.2-py36_0 --> 3.3.0-py36h06a4308_0\n",
      "  setuptools                                  45.2.0-py36_0 --> 51.0.0-py36h06a4308_2\n",
      "  singledispatch     pkgs/main/linux-64::singledispatch-3.~ --> pkgs/main/noarch::singledispatch-3.4.0.3-py_1001\n",
      "  six                                         1.14.0-py36_0 --> 1.15.0-py36h06a4308_0\n",
      "  snappy                                   1.1.7-hbae5bb6_3 --> 1.1.8-he6710b0_0\n",
      "  sortedcollections  pkgs/main/linux-64::sortedcollections~ --> pkgs/main/noarch::sortedcollections-1.2.1-py_0\n",
      "  sortedcontainers   pkgs/main/linux-64::sortedcontainers-~ --> pkgs/main/noarch::sortedcontainers-2.3.0-pyhd3eb1b0_0\n",
      "  soupsieve          pkgs/main/linux-64::soupsieve-1.9.5-p~ --> pkgs/main/noarch::soupsieve-2.0.1-py_0\n",
      "  sphinxcontrib-app~                             1.0.1-py_0 --> 1.0.2-py_0\n",
      "  sphinxcontrib-dev~                             1.0.1-py_0 --> 1.0.2-py_0\n",
      "  sphinxcontrib-htm~                             1.0.2-py_0 --> 1.0.3-py_0\n",
      "  sphinxcontrib-qth~                             1.0.2-py_0 --> 1.0.3-py_0\n",
      "  sphinxcontrib-ser~                             1.1.3-py_0 --> 1.1.4-py_0\n",
      "  sphinxcontrib-web~                             1.2.0-py_0 --> 1.2.4-py_0\n",
      "  spyder-kernels                               1.8.1-py36_0 --> 1.10.0-py36h06a4308_0\n",
      "  sqlalchemy                          1.3.13-py36h7b6447c_0 --> 1.3.20-py36h7b6447c_0\n",
      "  sqlite                                  3.31.1-h7b6447c_0 --> 3.33.0-h62c20be_0\n",
      "  statsmodels                         0.11.0-py36h7b6447c_0 --> 0.12.1-py36h27cfd23_0\n",
      "  sympy                                        1.5.1-py36_0 --> 1.6.2-py36h06a4308_1\n",
      "  tbb                                     2020.0-hfd86e86_0 --> 2020.3-hfd86e86_0\n",
      "  tblib                                          1.6.0-py_0 --> 1.7.0-py_0\n",
      "  terminado                                    0.8.3-py36_0 --> 0.9.1-py36_0\n",
      "  theano             conda-forge::theano-1.0.3-py36hfc679d~ --> pkgs/main::theano-1.0.4-py36hfd86e86_0\n",
      "  tk                                       8.6.8-hbc83047_0 --> 8.6.10-hbc83047_0\n",
      "  toolz                                         0.10.0-py_0 --> 0.11.1-py_0\n",
      "  tornado                              6.0.3-py36h7b6447c_3 --> 6.1-py36h27cfd23_0\n",
      "  tqdm                                          4.42.1-py_0 --> 4.54.1-pyhd3eb1b0_0\n",
      "  ujson                                 1.35-py36h14c3975_0 --> 4.0.1-py36he6710b0_0\n",
      "  unixodbc                                 2.3.7-h14c3975_0 --> 2.3.9-h7b6447c_0\n",
      "  watchdog                                    0.10.2-py36_0 --> 0.10.4-py36h06a4308_0\n",
      "  wcwidth                                        0.1.8-py_0 --> 0.2.5-py_0\n",
      "  werkzeug                                       1.0.0-py_0 --> 1.0.1-py_0\n",
      "  wheel              pkgs/main/linux-64::wheel-0.34.2-py36~ --> pkgs/main/noarch::wheel-0.36.1-pyhd3eb1b0_0\n",
      "  wrapt                               1.11.2-py36h7b6447c_0 --> 1.12.1-py36h7b6447c_1\n",
      "  wurlitzer                                    2.0.0-py36_0 --> 2.0.1-py36_0\n",
      "  xlsxwriter                                     1.2.7-py_0 --> 1.3.7-py_0\n",
      "  xz                                       5.2.4-h14c3975_4 --> 5.2.5-h7b6447c_0\n",
      "  yaml                                     0.1.7-had09818_2 --> 0.2.5-h7b6447c_0\n",
      "  yapf                                          0.28.0-py_0 --> 0.30.0-py_0\n",
      "  zeromq                                   4.3.1-he6710b0_3 --> 4.3.3-he6710b0_3\n",
      "  zict                                           1.0.0-py_0 --> 2.0.0-py_0\n",
      "  zipp                                           2.2.0-py_0 --> 3.4.0-pyhd3eb1b0_0\n",
      "  zstd                                     1.3.7-h0b5b093_0 --> 1.4.5-h9ceee32_0\n",
      "\n",
      "The following packages will be SUPERSEDED by a higher-priority channel:\n",
      "\n",
      "  keras-applications                            conda-forge --> pkgs/main\n",
      "  libgpuarray        conda-forge::libgpuarray-0.7.6-h14c39~ --> pkgs/main::libgpuarray-0.7.6-h14c3975_0\n",
      "  mako                 conda-forge::mako-1.1.3-pyh9f0ad1d_0 --> pkgs/main::mako-1.1.3-py_0\n",
      "  openssl            conda-forge::openssl-1.1.1h-h516909a_0 --> pkgs/main::openssl-1.1.1h-h7b6447c_0\n",
      "  pygpu              conda-forge::pygpu-0.7.6-py36h68bb277~ --> pkgs/main::pygpu-0.7.6-py36heb32a55_0\n",
      "\n",
      "The following packages will be DOWNGRADED:\n",
      "\n",
      "  backports                                        1.0-py_2 --> 1.0-pyhd3eb1b0_2\n",
      "  chardet                                   3.0.4-py36_1003 --> 3.0.4-py36h06a4308_1003\n",
      "  lzo                                       2.10-h49e0be7_2 --> 2.10-h7b6447c_2\n",
      "  mkl-service                          2.3.0-py36he904b0f_0 --> 2.3.0-py36he8ac12f_0\n",
      "  pycosat                              0.6.3-py36h7b6447c_0 --> 0.6.3-py36h27cfd23_0\n",
      "  pysocks                                      1.7.1-py36_0 --> 1.7.1-py36h06a4308_0\n",
      "  spyder                                       4.0.1-py36_0 --> 3.2.8-py36_0\n",
      "\n",
      "\n",
      "\n",
      "Downloading and Extracting Packages\n"
     ]
    },
    {
     "name": "stdout",
     "output_type": "stream",
     "text": [
      "yaml-0.2.5           | 75 KB     | ##################################### | 100% \n",
      "bitarray-1.6.1       | 92 KB     | ##################################### | 100% \n",
      "watchdog-0.10.4      | 92 KB     | ##################################### | 100% \n",
      "cython-0.29.21       | 1.9 MB    | ##################################### | 100% \n",
      "pyasn1-modules-0.2.8 | 72 KB     | ##################################### | 100% \n",
      "keyring-21.4.0       | 52 KB     | ##################################### | 100% \n",
      "pyyaml-5.3.1         | 180 KB    | ##################################### | 100% \n",
      "mkl-2020.2           | 138.3 MB  | ##################################### | 100% \n",
      "pkginfo-1.6.1        | 43 KB     | ##################################### | 100% \n",
      "requests-oauthlib-1. | 23 KB     | ##################################### | 100% \n",
      "libgpuarray-0.7.6    | 212 KB    | ##################################### | 100% \n",
      "pywavelets-1.1.1     | 3.5 MB    | ##################################### | 100% \n",
      "secretstorage-3.3.0  | 24 KB     | ##################################### | 100% \n",
      "isort-5.6.4          | 78 KB     | ##################################### | 100% \n",
      "numpy-1.19.2         | 22 KB     | ##################################### | 100% \n",
      "openpyxl-3.0.5       | 158 KB    | ##################################### | 100% \n",
      "expat-2.2.10         | 153 KB    | ##################################### | 100% \n",
      "libtiff-4.1.0        | 449 KB    | ##################################### | 100% \n",
      "diff-match-patch-202 | 36 KB     | ##################################### | 100% \n",
      "krb5-1.18.2          | 1.3 MB    | ##################################### | 100% \n",
      "imageio-2.9.0        | 3.0 MB    | ##################################### | 100% \n",
      "ipython_genutils-0.2 | 27 KB     | ##################################### | 100% \n",
      "pyjwt-1.7.1          | 33 KB     | ##################################### | 100% \n",
      "wcwidth-0.2.5        | 29 KB     | ##################################### | 100% \n",
      "pip-20.3.1           | 1.8 MB    | ##################################### | 100% \n",
      "beautifulsoup4-4.9.3 | 91 KB     | ##################################### | 100% \n",
      "ripgrep-12.1.1       | 1.4 MB    | ##################################### | 100% \n",
      "pcre-8.44            | 212 KB    | ##################################### | 100% \n",
      "statsmodels-0.12.1   | 8.5 MB    | ##################################### | 100% \n",
      "mkl_fft-1.2.0        | 149 KB    | ##################################### | 100% \n",
      "pickleshare-0.7.5    | 13 KB     | ##################################### | 100% \n",
      "mock-4.0.2           | 32 KB     | ##################################### | 100% \n",
      "giflib-5.1.4         | 68 KB     | ##################################### | 100% \n",
      "wheel-0.36.1         | 32 KB     | ##################################### | 100% \n",
      "prometheus_client-0. | 45 KB     | ##################################### | 100% \n",
      "iniconfig-1.1.1      | 9 KB      | ##################################### | 100% \n",
      "psutil-5.7.2         | 327 KB    | ##################################### | 100% \n",
      "sortedcollections-1. | 13 KB     | ##################################### | 100% \n",
      "pandas-1.1.3         | 8.2 MB    | ##################################### | 100% \n",
      "patchelf-0.12        | 83 KB     | ##################################### | 100% \n",
      "sympy-1.6.2          | 8.6 MB    | ##################################### | 100% \n",
      "sphinxcontrib-devhel | 22 KB     | ##################################### | 100% \n",
      "colorama-0.4.4       | 18 KB     | ##################################### | 100% \n",
      "graphite2-1.3.14     | 99 KB     | ##################################### | 100% \n",
      "charls-2.1.0         | 136 KB    | ##################################### | 100% \n",
      "future-0.18.2        | 639 KB    | ##################################### | 100% \n",
      "sqlite-3.33.0        | 1.1 MB    | ##################################### | 100% \n",
      "zeromq-4.3.3         | 500 KB    | ##################################### | 100% \n",
      "fsspec-0.8.3         | 72 KB     | ##################################### | 100% \n",
      "blinker-1.4          | 22 KB     | ##################################### | 100% \n",
      "pycosat-0.6.3        | 82 KB     | ##################################### | 100% \n",
      "termcolor-1.1.0      | 8 KB      | ##################################### | 100% \n",
      "certifi-2020.12.5    | 140 KB    | ##################################### | 100% \n",
      "jedi-0.17.2          | 919 KB    | ##################################### | 100% \n",
      "tblib-1.7.0          | 16 KB     | ##################################### | 100% \n",
      "jupyter_core-4.7.0   | 68 KB     | ##################################### | 100% \n",
      "pytest-6.1.2         | 408 KB    | ##################################### | 100% \n",
      "pixman-0.40.0        | 370 KB    | ##################################### | 100% \n",
      "libxml2-2.9.10       | 1.2 MB    | ##################################### | 100% \n",
      "ptyprocess-0.6.0     | 20 KB     | ##################################### | 100% \n",
      "pygments-2.7.3       | 676 KB    | ##################################### | 100% \n",
      "google-auth-oauthlib | 18 KB     | ##################################### | 100% \n",
      "pyparsing-2.4.7      | 65 KB     | ##################################### | 100% \n",
      "openssl-1.1.1h       | 2.5 MB    | ##################################### | 100% \n",
      "cloudpickle-1.6.0    | 30 KB     | ##################################### | 100% \n",
      "libxslt-1.1.34       | 432 KB    | ##################################### | 100% \n",
      "six-1.15.0           | 27 KB     | ##################################### | 100% \n",
      "pillow-8.0.1         | 621 KB    | ##################################### | 100% \n",
      "pycrypto-2.6.1       | 385 KB    | ##################################### | 100% \n",
      "libcurl-7.71.1       | 305 KB    | ##################################### | 100% \n",
      "tk-8.6.10            | 3.0 MB    | ##################################### | 100% \n",
      "lazy-object-proxy-1. | 27 KB     | ##################################### | 100% \n",
      "flake8-3.8.4         | 128 KB    | ##################################### | 100% \n",
      "tensorflow-2.2.0     | 4 KB      | ##################################### | 100% \n",
      "backcall-0.2.0       | 15 KB     | ##################################### | 100% \n",
      "threadpoolctl-2.1.0  | 17 KB     | ##################################### | 100% \n",
      "tqdm-4.54.1          | 55 KB     | ##################################### | 100% \n",
      "sqlalchemy-1.3.20    | 1.5 MB    | ##################################### | 100% \n",
      "libzopfli-1.0.3      | 171 KB    | ##################################### | 100% \n",
      "zipp-3.4.0           | 15 KB     | ##################################### | 100% \n",
      "sphinxcontrib-websup | 34 KB     | ##################################### | 100% \n",
      "icu-58.2             | 10.5 MB   | ##################################### | 100% \n",
      "binutils_impl_linux- | 3.7 MB    | ##################################### | 100% \n",
      "pathlib2-2.3.5       | 37 KB     | ##################################### | 100% \n",
      "terminado-0.9.1      | 27 KB     | ##################################### | 100% \n",
      "astroid-2.3.3        | 272 KB    | ##################################### | 100% \n",
      "pandoc-2.11          | 9.6 MB    | ##################################### | 100% \n",
      "python-3.6.10        | 29.7 MB   | ##################################### | 100% \n",
      "qtconsole-4.7.7      | 96 KB     | ##################################### | 100% \n",
      "rope-0.18.0          | 126 KB    | ##################################### | 100% \n",
      "bottleneck-1.3.2     | 124 KB    | ##################################### | 100% \n",
      "zstd-1.4.5           | 619 KB    | ##################################### | 100% \n",
      "pexpect-4.8.0        | 53 KB     | ##################################### | 100% \n",
      "_tflow_select-2.3.0  | 2 KB      | ##################################### | 100% \n",
      "pytest-doctestplus-0 | 22 KB     | ##################################### | 100% \n",
      "libllvm10-10.0.1     | 22.1 MB   | ##################################### | 100% \n",
      "toolz-0.11.1         | 48 KB     | ##################################### | 100% \n",
      "path.py-12.5.0       | 4 KB      | ##################################### | 100% \n",
      "tensorflow-estimator | 254 KB    | ##################################### | 100% \n",
      "rsa-4.6              | 26 KB     | ##################################### | 100% \n",
      "pyzmq-20.0.0         | 438 KB    | ##################################### | 100% \n"
     ]
    },
    {
     "name": "stdout",
     "output_type": "stream",
     "text": [
      "imagecodecs-2020.5.3 | 5.5 MB    | ##################################### | 100% \n",
      "ncurses-6.2          | 817 KB    | ##################################### | 100% \n",
      "html5lib-1.1         | 93 KB     | ##################################### | 100% \n",
      "spyder-3.2.8         | 2.1 MB    | ##################################### | 100% \n",
      "protobuf-3.13.0.1    | 633 KB    | ##################################### | 100% \n",
      "decorator-4.4.2      | 14 KB     | ##################################### | 100% \n",
      "docutils-0.15.2      | 660 KB    | ##################################### | 100% \n",
      "pycurl-7.43.0.6      | 66 KB     | ##################################### | 100% \n",
      "scipy-1.5.2          | 14.4 MB   | ##################################### | 100% \n",
      "readline-8.0         | 356 KB    | ##################################### | 100% \n",
      "keras-applications-1 | 29 KB     | ##################################### | 100% \n",
      "click-7.1.2          | 71 KB     | ##################################### | 100% \n",
      "nose-1.3.7           | 128 KB    | ##################################### | 100% \n",
      "pandocfilters-1.4.3  | 14 KB     | ##################################### | 100% \n",
      "qtawesome-1.0.1      | 757 KB    | ##################################### | 100% \n",
      "google-auth-1.21.3   | 57 KB     | ##################################### | 100% \n",
      "lz4-c-1.9.2          | 175 KB    | ##################################### | 100% \n",
      "json5-0.9.5          | 22 KB     | ##################################### | 100% \n",
      "bleach-3.2.1         | 112 KB    | ##################################### | 100% \n",
      "snappy-1.1.8         | 40 KB     | ##################################### | 100% \n",
      "llvmlite-0.34.0      | 293 KB    | ##################################### | 100% \n",
      "scikit-image-0.17.2  | 9.2 MB    | ##################################### | 100% \n",
      "ujson-4.0.1          | 46 KB     | ##################################### | 100% \n",
      "libxcb-1.14          | 505 KB    | ##################################### | 100% \n",
      "gcc_linux-64-7.3.0   | 27 KB     | ##################################### | 100% \n",
      "botocore-1.19.30     | 3.4 MB    | ##################################### | 100% \n",
      "oauthlib-3.1.0       | 91 KB     | ##################################### | 100% \n",
      "attrs-20.3.0         | 43 KB     | ##################################### | 100% \n",
      "brotli-1.0.9         | 375 KB    | ##################################### | 100% \n",
      "zope.interface-5.2.0 | 276 KB    | ##################################### | 100% \n",
      "tensorboard-plugin-w | 630 KB    | ##################################### | 100% \n",
      "chardet-3.0.4        | 180 KB    | ##################################### | 100% \n",
      "singledispatch-3.4.0 | 12 KB     | ##################################### | 100% \n",
      "gast-0.3.3           | 14 KB     | ##################################### | 100% \n",
      "libprotobuf-3.13.0.1 | 2.0 MB    | ##################################### | 100% \n",
      "jeepney-0.6.0        | 32 KB     | ##################################### | 100% \n",
      "typing_extensions-3. | 28 KB     | ##################################### | 100% \n",
      "jupyter_console-6.2. | 26 KB     | ##################################### | 100% \n",
      "tensorboard-2.3.0    | 5.2 MB    | ##################################### | 100% \n",
      "immutables-0.14      | 70 KB     | ##################################### | 100% \n",
      "yapf-0.30.0          | 127 KB    | ##################################### | 100% \n",
      "s3transfer-0.3.3     | 53 KB     | ##################################### | 100% \n",
      "regex-2020.11.13     | 318 KB    | ##################################### | 100% \n",
      "libedit-3.1.20191231 | 116 KB    | ##################################### | 100% \n",
      "curl-7.71.1          | 140 KB    | ##################################### | 100% \n",
      "py-1.9.0             | 79 KB     | ##################################### | 100% \n",
      "importlib-metadata-2 | 35 KB     | ##################################### | 100% \n",
      "python-libarchive-c- | 46 KB     | ##################################### | 100% \n",
      "libssh2-1.9.0        | 269 KB    | ##################################### | 100% \n",
      "matplotlib-base-3.3. | 5.1 MB    | ##################################### | 100% \n",
      "mpfr-4.0.2           | 487 KB    | ##################################### | 100% \n",
      "hypothesis-5.41.5    | 232 KB    | ##################################### | 100% \n",
      "wrapt-1.12.1         | 49 KB     | ##################################### | 100% \n",
      "pydocstyle-5.1.1     | 38 KB     | ##################################### | 100% \n",
      "tornado-6.1          | 581 KB    | ##################################### | 100% \n",
      "cytoolz-0.11.0       | 329 KB    | ##################################### | 100% \n",
      "spyder-kernels-1.10. | 99 KB     | ##################################### | 100% \n",
      "gxx_linux-64-7.3.0   | 26 KB     | ##################################### | 100% \n",
      "astunparse-1.6.3     | 17 KB     | ##################################### | 100% \n",
      "pyflakes-2.2.0       | 61 KB     | ##################################### | 100% \n",
      "seaborn-0.11.0       | 210 KB    | ##################################### | 100% \n",
      "pylint-2.3.1         | 797 KB    | ##################################### | 100% \n",
      "pyxdg-0.27           | 45 KB     | ##################################### | 100% \n",
      "ipykernel-5.3.4      | 181 KB    | ##################################### | 100% \n",
      "grpcio-1.31.0        | 2.0 MB    | ##################################### | 100% \n",
      "opt_einsum-3.1.0     | 54 KB     | ##################################### | 100% \n",
      "et_xmlfile-1.0.1     | 12 KB     | ##################################### | 100% \n",
      "dbus-1.13.18         | 504 KB    | ##################################### | 100% \n",
      "babel-2.9.0          | 5.5 MB    | ##################################### | 100% \n",
      "parso-0.7.0          | 72 KB     | ##################################### | 100% \n",
      "distributed-2.30.1   | 1011 KB   | ##################################### | 100% \n",
      "jupyter_client-6.1.7 | 77 KB     | ##################################### | 100% \n",
      "pysocks-1.7.1        | 31 KB     | ##################################### | 100% \n",
      "zict-2.0.0           | 13 KB     | ##################################### | 100% \n",
      "setuptools-51.0.0    | 712 KB    | ##################################### | 100% \n",
      "scikit-learn-0.23.2  | 5.0 MB    | ##################################### | 100% \n",
      "blosc-1.20.1         | 71 KB     | ##################################### | 100% \n",
      "pyopenssl-20.0.0     | 49 KB     | ##################################### | 100% \n",
      "jinja2-2.11.2        | 103 KB    | ##################################### | 100% \n",
      "wurlitzer-2.0.1      | 14 KB     | ##################################### | 100% \n",
      "google-pasta-0.2.0   | 46 KB     | ##################################### | 100% \n",
      "mkl-service-2.3.0    | 52 KB     | ##################################### | 100% \n",
      "lxml-4.6.2           | 1.2 MB    | ##################################### | 100% \n",
      "backports-1.0        | 210 KB    | ##################################### | 100% \n",
      "numba-0.51.2         | 3.2 MB    | ##################################### | 100% \n",
      "pygpu-0.7.6          | 501 KB    | ##################################### | 100% \n",
      "libaec-1.0.4         | 32 KB     | ##################################### | 100% \n",
      "mako-1.1.3           | 62 KB     | ##################################### | 100% \n",
      "qdarkstyle-2.8.1     | 176 KB    | ##################################### | 100% \n",
      "rtree-0.9.4          | 47 KB     | ##################################### | 100% \n",
      "sphinxcontrib-qthelp | 25 KB     | ##################################### | 100% \n",
      "sphinxcontrib-serial | 24 KB     | ##################################### | 100% \n",
      "brotlipy-0.7.0       | 320 KB    | ##################################### | 100% \n",
      "ipython-7.16.1       | 999 KB    | ##################################### | 100% \n",
      "absl-py-0.11.0       | 103 KB    | ##################################### | 100% \n",
      "tbb-2020.3           | 1.1 MB    | ##################################### | 100% \n",
      "kiwisolver-1.3.0     | 80 KB     | ##################################### | 100% \n",
      "msgpack-python-1.0.0 | 90 KB     | ##################################### | 100% \n",
      "flask-1.1.2          | 78 KB     | ##################################### | 100% \n",
      "sphinxcontrib-appleh | 27 KB     | ##################################### | 100% \n",
      "boto3-1.16.30        | 70 KB     | ##################################### | 100% \n"
     ]
    },
    {
     "name": "stdout",
     "output_type": "stream",
     "text": [
      "pyasn1-0.4.8         | 57 KB     | ##################################### | 100% \n",
      "libtool-2.4.6        | 394 KB    | ##################################### | 100% \n",
      "soupsieve-2.0.1      | 33 KB     | ##################################### | 100% \n",
      "ca-certificates-2020 | 121 KB    | ##################################### | 100% \n",
      "mkl_random-1.1.1     | 327 KB    | ##################################### | 100% \n",
      "werkzeug-1.0.1       | 240 KB    | ##################################### | 100% \n",
      "dask-core-2.30.0     | 605 KB    | ##################################### | 100% \n",
      "dask-2.30.0          | 5 KB      | ##################################### | 100% \n",
      "intervaltree-3.1.0   | 26 KB     | ##################################### | 100% \n",
      "intel-openmp-2020.2  | 786 KB    | ##################################### | 100% \n",
      "libsodium-1.0.18     | 244 KB    | ##################################### | 100% \n",
      "libffi-3.2.1         | 48 KB     | ##################################### | 100% \n",
      "freetype-2.10.4      | 596 KB    | ##################################### | 100% \n",
      "cachetools-4.1.1     | 12 KB     | ##################################### | 100% \n",
      "xlsxwriter-1.3.7     | 108 KB    | ##################################### | 100% \n",
      "openjpeg-2.3.0       | 301 KB    | ##################################### | 100% \n",
      "jsonschema-3.2.0     | 47 KB     | ##################################### | 100% \n",
      "nltk-3.5             | 976 KB    | ##################################### | 100% \n",
      "pytest-openfiles-0.5 | 11 KB     | ##################################### | 100% \n",
      "pyrsistent-0.17.3    | 89 KB     | ##################################### | 100% \n",
      "libwebp-1.0.1        | 471 KB    | ##################################### | 100% \n",
      "pycparser-2.20       | 94 KB     | ##################################### | 100% \n",
      "cryptography-3.2.1   | 570 KB    | ##################################### | 100% \n",
      "autopep8-1.5.4       | 42 KB     | ##################################### | 100% \n",
      "keras-preprocessing- | 37 KB     | ##################################### | 100% \n",
      "greenlet-0.4.17      | 22 KB     | ##################################### | 100% \n",
      "unixodbc-2.3.9       | 276 KB    | ##################################### | 100% \n",
      "lcms2-2.11           | 307 KB    | ##################################### | 100% \n",
      "binutils_linux-64-2. | 26 KB     | ##################################### | 100% \n",
      "contextvars-2.4      | 12 KB     | ##################################### | 100% \n",
      "liblief-0.10.1       | 1.7 MB    | ##################################### | 100% \n",
      "lzo-2.10             | 184 KB    | ##################################### | 100% \n",
      "importlib_metadata-2 | 11 KB     | ##################################### | 100% \n",
      "toml-0.10.1          | 20 KB     | ##################################### | 100% \n",
      "tensorflow-base-2.2. | 129.7 MB  | ##################################### | 100% \n",
      "zope.event-4.5.0     | 209 KB    | ##################################### | 100% \n",
      "bokeh-2.2.3          | 5.4 MB    | ##################################### | 100% \n",
      "atomicwrites-1.4.0   | 11 KB     | ##################################### | 100% \n",
      "fribidi-1.0.10       | 103 KB    | ##################################### | 100% \n",
      "markdown-3.3.3       | 128 KB    | ##################################### | 100% \n",
      "packaging-20.7       | 33 KB     | ##################################### | 100% \n",
      "pytz-2020.4          | 180 KB    | ##################################### | 100% \n",
      "path-15.0.0          | 38 KB     | ##################################### | 100% \n",
      "xz-5.2.5             | 341 KB    | ##################################### | 100% \n",
      "jxrlib-1.1           | 223 KB    | ##################################### | 100% \n",
      "pycodestyle-2.6.0    | 43 KB     | ##################################### | 100% \n",
      "networkx-2.5         | 1.1 MB    | ##################################### | 100% \n",
      "libarchive-3.4.2     | 796 KB    | ##################################### | 100% \n",
      "joblib-0.17.0        | 206 KB    | ##################################### | 100% \n",
      "urllib3-1.25.11      | 99 KB     | ##################################### | 100% \n",
      "py-lief-0.10.1       | 921 KB    | ##################################### | 100% \n",
      "prompt-toolkit-3.0.8 | 248 KB    | ##################################### | 100% \n",
      "tifffile-2020.12.4   | 127 KB    | ##################################### | 100% \n",
      "more-itertools-8.6.0 | 40 KB     | ##################################### | 100% \n",
      "python-language-serv | 48 KB     | ##################################### | 100% \n",
      "requests-2.25.0      | 52 KB     | ##################################### | 100% \n",
      "theano-1.0.4         | 3.2 MB    | ##################################### | 100% \n",
      "numpy-base-1.19.2    | 4.1 MB    | ##################################### | 100% \n",
      "gevent-20.9.0        | 1.6 MB    | ##################################### | 100% \n",
      "sortedcontainers-2.3 | 26 KB     | ##################################### | 100% \n",
      "idna-2.10            | 50 KB     | ##################################### | 100% \n",
      "sphinxcontrib-htmlhe | 27 KB     | ##################################### | 100% \n",
      "ruamel_yaml-0.15.87  | 244 KB    | ##################################### | 100% \n",
      "c-ares-1.17.1        | 108 KB    | ##################################### | 100% \n",
      "nbformat-5.0.8       | 88 KB     | ##################################### | 100% \n",
      "prompt_toolkit-3.0.8 | 12 KB     | ##################################### | 100% \n",
      "matplotlib-3.3.2     | 24 KB     | ##################################### | 100% \n",
      "astropy-4.0.2        | 6.1 MB    | ##################################### | 100% \n",
      "python-jsonrpc-serve | 12 KB     | ##################################### | 100% \n",
      "asn1crypto-1.4.0     | 80 KB     | ##################################### | 100% \n",
      "Preparing transaction: done\n",
      "Verifying transaction: done\n",
      "Executing transaction: done\n",
      "Collecting package metadata (current_repodata.json): done\n",
      "Solving environment: failed with initial frozen solve. Retrying with flexible solve.\n",
      "Collecting package metadata (repodata.json): done\n",
      "Solving environment: failed with initial frozen solve. Retrying with flexible solve.\n",
      "Solving environment: / Collecting package metadata (current_repodata.json): done\n",
      "Solving environment: failed with repodata from current_repodata.json, will retry with next repodata source.\n",
      "Collecting package metadata (repodata.json): done\n",
      "Solving environment: done\n",
      "\n",
      "## Package Plan ##\n",
      "\n",
      "  environment location: /home/ec2-user/anaconda3/envs/amazonei_tensorflow_p36\n",
      "\n",
      "  added / updated specs:\n",
      "    - ipywidgets\n",
      "\n",
      "\n",
      "The following packages will be downloaded:\n",
      "\n",
      "    package                    |            build\n",
      "    ---------------------------|-----------------\n",
      "    bleach-3.1.0               |           py36_0         221 KB\n",
      "    boto3-1.9.162              |             py_0          88 KB\n",
      "    botocore-1.12.189          |             py_0         2.6 MB\n",
      "    ipywidgets-7.5.1           |             py_1          98 KB\n",
      "    pylint-2.4.4               |           py36_0         422 KB\n",
      "    s3transfer-0.2.1           |           py36_0          98 KB\n",
      "    urllib3-1.25.8             |           py36_0         169 KB\n",
      "    ------------------------------------------------------------\n",
      "                                           Total:         3.7 MB\n",
      "\n",
      "The following packages will be REMOVED:\n",
      "\n",
      "  brotlipy-0.7.0-py36h27cfd23_1003\n",
      "  python_abi-3.6-1_cp36m\n",
      "  toolchain-2.4.0-0\n",
      "  toolchain_c_linux-64-2.4.0-0\n",
      "  toolchain_cxx_linux-64-2.4.0-0\n",
      "\n",
      "The following packages will be UPDATED:\n",
      "\n",
      "  docutils                                    0.15.2-py36_0 --> 0.16-py36_0\n",
      "  ipywidgets                                     7.5.1-py_0 --> 7.5.1-py_1\n",
      "  pylint                                       2.3.1-py36_0 --> 2.4.4-py36_0\n",
      "\n",
      "The following packages will be SUPERSEDED by a higher-priority channel:\n",
      "\n",
      "  bleach                pkgs/main/noarch::bleach-3.2.1-py_0 --> pkgs/main/linux-64::bleach-3.1.0-py36_0\n",
      "  isort                  pkgs/main/noarch::isort-5.6.4-py_0 --> pkgs/main/linux-64::isort-4.3.21-py36_0\n",
      "  s3transfer         pkgs/main/noarch::s3transfer-0.3.3-py~ --> pkgs/main/linux-64::s3transfer-0.2.1-py36_0\n",
      "  urllib3            pkgs/main/noarch::urllib3-1.25.11-py_0 --> pkgs/main/linux-64::urllib3-1.25.8-py36_0\n",
      "\n",
      "The following packages will be DOWNGRADED:\n",
      "\n",
      "  boto3                                1.16.30-pyhd3eb1b0_0 --> 1.9.162-py_0\n",
      "  botocore                             1.19.30-pyhd3eb1b0_0 --> 1.12.189-py_0\n",
      "  pip                                 20.3.1-py36h06a4308_0 --> 20.0.2-py36_1\n",
      "\n",
      "\n",
      "\n",
      "Downloading and Extracting Packages\n"
     ]
    },
    {
     "name": "stdout",
     "output_type": "stream",
     "text": [
      "s3transfer-0.2.1     | 98 KB     | ##################################### | 100% \n",
      "ipywidgets-7.5.1     | 98 KB     | ##################################### | 100% \n",
      "bleach-3.1.0         | 221 KB    | ##################################### | 100% \n",
      "pylint-2.4.4         | 422 KB    | ##################################### | 100% \n",
      "urllib3-1.25.8       | 169 KB    | ##################################### | 100% \n",
      "botocore-1.12.189    | 2.6 MB    | ##################################### | 100% \n",
      "boto3-1.9.162        | 88 KB     | ##################################### | 100% \n",
      "Preparing transaction: done\n",
      "Verifying transaction: done\n",
      "Executing transaction: done\n"
     ]
    },
    {
     "ename": "ModuleNotFoundError",
     "evalue": "No module named 'pandas_profiling'",
     "output_type": "error",
     "traceback": [
      "\u001b[0;31m---------------------------------------------------------------------------\u001b[0m",
      "\u001b[0;31mModuleNotFoundError\u001b[0m                       Traceback (most recent call last)",
      "\u001b[0;32m<ipython-input-6-295f53ea6dc4>\u001b[0m in \u001b[0;36m<module>\u001b[0;34m\u001b[0m\n\u001b[1;32m     11\u001b[0m     \u001b[0mget_ipython\u001b[0m\u001b[0;34m(\u001b[0m\u001b[0;34m)\u001b[0m\u001b[0;34m.\u001b[0m\u001b[0msystem\u001b[0m\u001b[0;34m(\u001b[0m\u001b[0;34m'sudo /home/ec2-user/anaconda3/bin/conda update -n amazonei_tensorflow_p36 ipywidgets -y'\u001b[0m\u001b[0;34m)\u001b[0m\u001b[0;34m\u001b[0m\u001b[0;34m\u001b[0m\u001b[0m\n\u001b[1;32m     12\u001b[0m \u001b[0;32mfinally\u001b[0m\u001b[0;34m:\u001b[0m\u001b[0;34m\u001b[0m\u001b[0;34m\u001b[0m\u001b[0m\n\u001b[0;32m---> 13\u001b[0;31m     \u001b[0;32mimport\u001b[0m \u001b[0mpandas_profiling\u001b[0m\u001b[0;34m\u001b[0m\u001b[0;34m\u001b[0m\u001b[0m\n\u001b[0m\u001b[1;32m     14\u001b[0m \u001b[0;34m\u001b[0m\u001b[0m\n\u001b[1;32m     15\u001b[0m \u001b[0;32mfrom\u001b[0m \u001b[0mpandas_profiling\u001b[0m \u001b[0;32mimport\u001b[0m \u001b[0mProfileReport\u001b[0m\u001b[0;34m\u001b[0m\u001b[0;34m\u001b[0m\u001b[0m\n",
      "\u001b[0;31mModuleNotFoundError\u001b[0m: No module named 'pandas_profiling'"
     ]
    }
   ],
   "source": [
    "# WARNING: This cell may take 15-20 mins to finish. If you don'y need Pandas Profiler data analysis, just skip this cell,\n",
    "# as well as `a. Automatic Data Exploration` section\n",
    "\n",
    "# System cell\n",
    "# Sophisticated way to import pandas profiler into the Notebook. Work with kernel = 'conda_amazonei_tensorflow_p36\n",
    "try:\n",
    "    import pandas_profiling\n",
    "except:\n",
    "    !sudo /home/ec2-user/anaconda3/bin/conda update -n amazonei_tensorflow_p36 --all -y\n",
    "    !sudo /home/ec2-user/anaconda3/bin/conda install -c conda-forge -n amazonei_tensorflow_p36 pandas-profiling imagehash -y\n",
    "    !sudo /home/ec2-user/anaconda3/bin/conda update -n amazonei_tensorflow_p36 ipywidgets -y\n",
    "finally:\n",
    "    import pandas_profiling\n",
    "\n",
    "from pandas_profiling import ProfileReport"
   ]
  },
  {
   "cell_type": "code",
   "execution_count": null,
   "metadata": {},
   "outputs": [],
   "source": [
    "# System cell\n",
    "# Import required and common libs\n",
    "import json\n",
    "import time\n",
    "import boto3\n",
    "import os\n",
    "import pandas as pd\n",
    "import numpy as np\n",
    "import datetime\n",
    "import pyarrow\n",
    "from itables import show\n"
   ]
  },
  {
   "cell_type": "code",
   "execution_count": null,
   "metadata": {},
   "outputs": [],
   "source": [
    "!conda install -y -c defaults -c conda-forge shap # > /dev/null\n",
    "import shap\n",
    "shap.initjs()"
   ]
  },
  {
   "cell_type": "code",
   "execution_count": null,
   "metadata": {},
   "outputs": [],
   "source": [
    "# System cell\n",
    "# Import all required MLFactory classes, and init MLFactory API\n",
    "from mlfactory.sdk.restclient.mlfactory_api import MLFactoryApi\n",
    "from mlfactory.sdk.common import Util\n",
    "from mlfactory.sdk.problem.base import Problem\n",
    "from mlfactory.sdk.tf.transformations import Tfs\n",
    "from mlfactory.sdk.common import ExperimentLoader\n",
    "from mlfactory.sdk.tf.tf_execution import TfExecution\n",
    "\n",
    "\n",
    "mlf_api = MLFactoryApi()"
   ]
  },
  {
   "cell_type": "code",
   "execution_count": null,
   "metadata": {},
   "outputs": [],
   "source": [
    "#Predict specific imports\n",
    "import hiplot as hip\n",
    "import matplotlib.pyplot as plt\n",
    "from xgboost import XGBClassifier\n",
    "from matplotlib.pyplot import xticks\n",
    "%matplotlib inline\n",
    "from sagemaker import get_execution_role\n",
    "role = get_execution_role()\n",
    "from mlfactory.sdk.predict.predict_config import PredictConfiguration\n",
    "from mlfactory.sdk.aws_autopilot.aws_autopilot_config import AWSAutopilotConfiguration\n",
    "from mlfactory.sdk.afe.afe_config import AFEConfiguration\n",
    "from mlfactory.sdk.explainability.explainability_config import ExplainabilityConfiguration\n",
    "from mlfactory.sdk.explainability.explainability_controller import ExplainabilityController"
   ]
  },
  {
   "cell_type": "markdown",
   "metadata": {},
   "source": [
    "## Define Problem"
   ]
  },
  {
   "cell_type": "code",
   "execution_count": null,
   "metadata": {},
   "outputs": [],
   "source": [
    "#todo Output JSON as table\n",
    "problem = Problem.load(problem_id)\n",
    "problem"
   ]
  },
  {
   "cell_type": "markdown",
   "metadata": {},
   "source": [
    "## Select Target"
   ]
  },
  {
   "cell_type": "code",
   "execution_count": 7,
   "metadata": {},
   "outputs": [
    {
     "ename": "NameError",
     "evalue": "name 'train' is not defined",
     "output_type": "error",
     "traceback": [
      "\u001b[0;31m---------------------------------------------------------------------------\u001b[0m",
      "\u001b[0;31mNameError\u001b[0m                                 Traceback (most recent call last)",
      "\u001b[0;32m<ipython-input-7-10c9583f8d94>\u001b[0m in \u001b[0;36m<module>\u001b[0;34m\u001b[0m\n\u001b[1;32m      1\u001b[0m \u001b[0;31m#get list of tables in this problem\u001b[0m\u001b[0;34m\u001b[0m\u001b[0;34m\u001b[0m\u001b[0;34m\u001b[0m\u001b[0m\n\u001b[1;32m      2\u001b[0m \u001b[0;31m#tables = problem.table_names()\u001b[0m\u001b[0;34m\u001b[0m\u001b[0;34m\u001b[0m\u001b[0;34m\u001b[0m\u001b[0m\n\u001b[0;32m----> 3\u001b[0;31m \u001b[0mtables\u001b[0m \u001b[0;34m=\u001b[0m \u001b[0;34m[\u001b[0m\u001b[0mtrain\u001b[0m\u001b[0;34m]\u001b[0m\u001b[0;34m\u001b[0m\u001b[0;34m\u001b[0m\u001b[0m\n\u001b[0m",
      "\u001b[0;31mNameError\u001b[0m: name 'train' is not defined"
     ]
    }
   ],
   "source": [
    "#get list of tables in this problem\n",
    "#tables = problem.table_names()\n",
    "tables = [train]"
   ]
  },
  {
   "cell_type": "code",
   "execution_count": null,
   "metadata": {},
   "outputs": [],
   "source": [
    "# Column to predict\n",
    "# problem.columns(<table_name>)\n",
    "target_column = ''"
   ]
  },
  {
   "cell_type": "markdown",
   "metadata": {},
   "source": [
    "## Data Exploration"
   ]
  },
  {
   "cell_type": "markdown",
   "metadata": {},
   "source": [
    "Here is the place to explore & visualize your data"
   ]
  },
  {
   "cell_type": "code",
   "execution_count": null,
   "metadata": {},
   "outputs": [],
   "source": [
    "# Table names under your problem\n",
    "problem.table_names()"
   ]
  },
  {
   "cell_type": "markdown",
   "metadata": {},
   "source": [
    "#### a. Automatic Data Exploration"
   ]
  },
  {
   "cell_type": "markdown",
   "metadata": {},
   "source": [
    "Visualize and Analize your data automatically based on Pandas Profiler"
   ]
  },
  {
   "cell_type": "code",
   "execution_count": null,
   "metadata": {},
   "outputs": [],
   "source": [
    "# Set to the table name you want to explore\n",
    "# Generally, you'd like to see here your main (targe time series) dataset\n",
    "explore_table_name = \"raw_data_csv\""
   ]
  },
  {
   "cell_type": "code",
   "execution_count": null,
   "metadata": {},
   "outputs": [],
   "source": [
    "# Data frame from the exloration table\n",
    "df_explore = problem.read_dataframe_from_table(explore_table_name)\n",
    "df_explore.head()"
   ]
  },
  {
   "cell_type": "code",
   "execution_count": null,
   "metadata": {},
   "outputs": [],
   "source": [
    "# System Cell\n",
    "# Automatic data exploration\n",
    "profile = ProfileReport(df_explore, title=f\"Exploration report for {explore_table_name}\", explorative=True)\n",
    "profile.to_widgets()"
   ]
  },
  {
   "cell_type": "markdown",
   "metadata": {},
   "source": [
    "#### b. Automatic Anomaly Detection"
   ]
  },
  {
   "cell_type": "markdown",
   "metadata": {},
   "source": [
    "Detect outliers in your data using MLFactory AnomalyDetection transformation\n",
    "\n",
    "[Read details](https://docs.google.com/document/d/1xyV_paZdy3vW9S954korzOqmZVDX56Yavu2OA0zKT_Y/edit?usp=sharing)"
   ]
  },
  {
   "cell_type": "code",
   "execution_count": null,
   "metadata": {},
   "outputs": [],
   "source": [
    "# Uncomment and run this cell if you want to apply automatic anomalies detecion\n",
    "\n",
    "anomaly_detector = Tfs.AnomalyDetection()\n",
    "anomaly_detector.problem_id = problem.id()\n",
    "anomaly_detector.table = explore_table_name\n",
    "anomaly_detector.run()"
   ]
  },
  {
   "cell_type": "code",
   "execution_count": null,
   "metadata": {},
   "outputs": [],
   "source": [
    "# Uncomment and run this cell if you appled automatic anomalies detecion above.\n",
    "\n",
    "status = anomaly_detector.tf_execution.refresh_status()\n",
    "if status.is_done():\n",
    "    df_explore = problem.read_dataframe_from_table(anomaly_detector.name)\n",
    "    df_explore.head()\n",
    "else:\n",
    "    print(f\"Anomalies detection is still in progress, please wait. Current status is {status}\")"
   ]
  },
  {
   "cell_type": "markdown",
   "metadata": {},
   "source": [
    "#### c. Custom Exploration"
   ]
  },
  {
   "cell_type": "code",
   "execution_count": null,
   "metadata": {},
   "outputs": [],
   "source": [
    "# Feel free to explore more data if you want!"
   ]
  },
  {
   "cell_type": "markdown",
   "metadata": {},
   "source": [
    "### Data Transformations"
   ]
  },
  {
   "cell_type": "markdown",
   "metadata": {},
   "source": [
    "### In-Memory and Server-Side Transformations Guide"
   ]
  },
  {
   "cell_type": "markdown",
   "metadata": {},
   "source": [
    "You have two options to transform your data:\n",
    " 1. Use `problem.read_dataframe_from_table(<table_name>)` to load all your data in memory into good old pandas DataFrame.\n",
    "  Apply all transformations your need, and save data using `problem.write_dataframe_into_table(<df>, <table_name>)`.\n",
    "  That suits perfectly if you have a small to medium size dataset which fits to RAM (up to several Gbs)\n",
    " 2. Use server-side MLFactory SDK transformations. They run at our backend, take more time (minutes usually),\n",
    "  but can handle, and are intended for, huge datasets.\n",
    "\n",
    "Please find examples below"
   ]
  },
  {
   "cell_type": "markdown",
   "metadata": {},
   "source": [
    "Transformations have been divided into 3 sections:\n",
    "1. Transformations before Train Test Split\n",
    "2. Train Test Split\n",
    "3. Transformations after Train Test Split"
   ]
  },
  {
   "cell_type": "markdown",
   "metadata": {},
   "source": [
    "#### Server-side transforation example"
   ]
  },
  {
   "cell_type": "markdown",
   "metadata": {},
   "source": [
    "#### 1. Choose and configure"
   ]
  },
  {
   "cell_type": "code",
   "execution_count": null,
   "metadata": {},
   "outputs": [],
   "source": [
    "# a. To list all available server-side transformations, invoke \"all()\"\n",
    "\n",
    "# Tfs.all()"
   ]
  },
  {
   "cell_type": "code",
   "execution_count": null,
   "metadata": {},
   "outputs": [],
   "source": [
    "# b. Choose one, e.g. `SelectColumns\n",
    "\n",
    "# tf = Tfs.SelectColumns()"
   ]
  },
  {
   "cell_type": "code",
   "execution_count": null,
   "metadata": {},
   "outputs": [],
   "source": [
    "# c. To get help on a transformation (as well as almost any SDK class or function), invoke `?`,\n",
    "# or put cursor on variable or function name and Shift+Tab\n",
    "\n",
    "# tf?"
   ]
  },
  {
   "cell_type": "code",
   "execution_count": null,
   "metadata": {},
   "outputs": [],
   "source": [
    "# d. Configure the transformation\n",
    "# Name of the transformation is also used as the name of output table you will find transformed data in\n",
    "# By default, the name is assigned to the name of transformation itself, in snake case\n",
    "\n",
    "\n",
    "# tf.name = \"select_best_columns\"\n",
    "\n",
    "# tf.table = \"raw_data_csv\"\n",
    "\n",
    "# tf.keys = [\"item_id\"]\n",
    "\n",
    "# tf.problem_id = problem.id()"
   ]
  },
  {
   "cell_type": "markdown",
   "metadata": {},
   "source": [
    "#### 2. Save and execute"
   ]
  },
  {
   "cell_type": "code",
   "execution_count": null,
   "metadata": {},
   "outputs": [],
   "source": [
    "# tf_execution = tf.run()"
   ]
  },
  {
   "cell_type": "markdown",
   "metadata": {},
   "source": [
    "#### 3. Check status"
   ]
  },
  {
   "cell_type": "code",
   "execution_count": null,
   "metadata": {},
   "outputs": [],
   "source": [
    "# If notebook when offline while you've been waiting, you can always load the execution object from DB\n",
    "# tf_execution = TfExecution.instance(problem_id, transformation_id)\n",
    "\n",
    "# Check the transformation execution status\n",
    "# tf_execution.refresh_status()"
   ]
  },
  {
   "cell_type": "markdown",
   "metadata": {},
   "source": [
    "Now you should wait for (usually) several minutes. You can use those flags to understand if execution is complete and if it was successful"
   ]
  },
  {
   "cell_type": "code",
   "execution_count": null,
   "metadata": {},
   "outputs": [],
   "source": [
    "# tf_execution.refresh_status().is_done()\n",
    "# tf_execution.refresh_status().is_successful()"
   ]
  },
  {
   "cell_type": "markdown",
   "metadata": {},
   "source": [
    "#### Classic (Pandas) transforation example"
   ]
  },
  {
   "cell_type": "markdown",
   "metadata": {},
   "source": [
    "#### 1. Read Data"
   ]
  },
  {
   "cell_type": "code",
   "execution_count": null,
   "metadata": {},
   "outputs": [],
   "source": [
    "# All table names for your problem\n",
    "problem.table_names()"
   ]
  },
  {
   "cell_type": "code",
   "execution_count": null,
   "metadata": {},
   "outputs": [],
   "source": [
    "# Read data into pandas DataFrame\n",
    "df = problem.read_dataframe_from_table(\"please specify table name\")\n",
    "df.head()"
   ]
  },
  {
   "cell_type": "markdown",
   "metadata": {},
   "source": [
    "#### 2. Change Data"
   ]
  },
  {
   "cell_type": "code",
   "execution_count": null,
   "metadata": {},
   "outputs": [],
   "source": [
    "# Do changes using pandas\n",
    "# ..."
   ]
  },
  {
   "cell_type": "markdown",
   "metadata": {},
   "source": [
    "#### 3. Save data back to the table"
   ]
  },
  {
   "cell_type": "code",
   "execution_count": null,
   "metadata": {},
   "outputs": [],
   "source": [
    "# You can check available parameters running the line below\n",
    "# problem.write_dataframe_into_table?"
   ]
  },
  {
   "cell_type": "code",
   "execution_count": null,
   "metadata": {},
   "outputs": [],
   "source": [
    "# Write data\n",
    "# problem.write_dataframe_into_table(df, table_name=<new table name>)"
   ]
  },
  {
   "cell_type": "markdown",
   "metadata": {},
   "source": [
    "### Transform Data to Required Format"
   ]
  },
  {
   "cell_type": "markdown",
   "metadata": {},
   "source": [
    "### The Last Transformation"
   ]
  },
  {
   "cell_type": "markdown",
   "metadata": {},
   "source": [
    "#### 1. If you use server-side transformations"
   ]
  },
  {
   "cell_type": "code",
   "execution_count": null,
   "metadata": {},
   "outputs": [],
   "source": [
    "# Select transformation class from Tfs.all() list, and replace <SELECT CLASS> with class name\n",
    "tf_final = Tfs.<SELECT CLASS>()\n",
    "# Last transformation in the chain should have the predefined name = \"target_time_series\"\n",
    "# That's required by our backend: we don't specify time series table name explicitly but rather expect data to be\n",
    "# present in a table named \"target_time_series\"\n",
    "tf_final.name = \"target_time_series\"\n",
    "tf_final.partitions = 1\n",
    "tf_final.problem_id = problem.id"
   ]
  },
  {
   "cell_type": "code",
   "execution_count": null,
   "metadata": {},
   "outputs": [],
   "source": [
    "# System cell\n",
    "# Long running\n",
    "\n",
    "# Run transformation\n",
    "tf_execution = tf_final.run()"
   ]
  },
  {
   "cell_type": "code",
   "execution_count": null,
   "metadata": {},
   "outputs": [],
   "source": [
    "# If notebook when offline while you've been waiting, you can always load the execution object from DB\n",
    "# tf_execution = TfExecution.instance(problem_id, transformation_id)\n",
    "\n",
    "# Wait until `is_done` is True\n",
    "tf_execution.refresh_status()"
   ]
  },
  {
   "cell_type": "markdown",
   "metadata": {},
   "source": [
    "#### 2. Or, If you use in-memory pandas transformations"
   ]
  },
  {
   "cell_type": "code",
   "execution_count": null,
   "metadata": {},
   "outputs": [],
   "source": [
    "# Read data\n",
    "df = problem.read_dataframe_from_table('t1_problem_120')\n",
    "df.head()\n",
    "# Do changes using pandas\n",
    "# ...\n",
    "# Write date\n",
    "# problem.write_dataframe_into_table(df, \"target_time_series\")"
   ]
  },
  {
   "cell_type": "markdown",
   "metadata": {},
   "source": [
    "#### Transformations BEFORE Train Test Split\n",
    "\n",
    "Usually Transformations which add features or modify existing features into new ones can be applied before Train Test Split.\n",
    "\n",
    "For example:\n",
    "- Absolute - Computes the absolute value of a number.\n",
    "- SelectColumns - Selects specified columns of interest from the table.\n",
    "\n",
    "Can be applied BEFORE the Train Test Split."
   ]
  },
  {
   "cell_type": "code",
   "execution_count": null,
   "metadata": {},
   "outputs": [],
   "source": [
    "# Run transformations BEFORE splitting the data into train test\n",
    "# Use the examples as shown above to run the transformations"
   ]
  },
  {
   "cell_type": "markdown",
   "metadata": {},
   "source": [
    "#### Train Test Split"
   ]
  },
  {
   "cell_type": "code",
   "execution_count": null,
   "metadata": {},
   "outputs": [],
   "source": [
    "# # Uncomment and run this cell to apply train validation test split\n",
    "\n",
    "# train_val_test_splitter = Tfs.Split()\n",
    "# train_val_test_splitter.name = \"\"\n",
    "# train_val_test_splitter.ignoreHeader = True\n",
    "# train_val_test_splitter.table = \"\"\n",
    "# train_val_test_splitter.p = [0.65, 0.15, 0.20]\n",
    "# train_val_test_splitter.problem_id = problem.id()\n",
    "# train_val_test_splitter.run()"
   ]
  },
  {
   "cell_type": "markdown",
   "metadata": {},
   "source": [
    "#### Transformations AFTER Train Test Split\n",
    "\n",
    "Some Transformations should be applied after the Train Test Split separately as otherwise they can lead to Leakage of Data.\n",
    "\n",
    "These usually include Encoder, Scaler, Normalizer Transformations.\n",
    "\n",
    "For example:\n",
    "- OneHotEncode - Transforms the chosen columns into one-hot representations.\n",
    "- AnomalyDetection - Adds is_outlier column where 1 defines an anomaly\n",
    "\n",
    "Should be applied AFTER the Train Test Split."
   ]
  },
  {
   "cell_type": "code",
   "execution_count": null,
   "metadata": {},
   "outputs": [],
   "source": [
    "# Run transformations AFTER splitting the data into train test\n",
    "# Use the examples as shown above to run the transformations"
   ]
  },
  {
   "cell_type": "markdown",
   "metadata": {},
   "source": [
    "## Create Experiment"
   ]
  },
  {
   "cell_type": "code",
   "execution_count": null,
   "metadata": {},
   "outputs": [],
   "source": [
    "# System cell\n",
    "experiment = PredictConfiguration.load(problem_id=problem_id, experiment_id=experiment_id)"
   ]
  },
  {
   "cell_type": "markdown",
   "metadata": {},
   "source": [
    "#### Required Fields (*)"
   ]
  },
  {
   "cell_type": "markdown",
   "metadata": {},
   "source": [
    "Those fields are mandatory, and require you to set values"
   ]
  },
  {
   "cell_type": "markdown",
   "metadata": {},
   "source": [
    "You may refer to [the XGBoost Documentation](https://github.com/dmlc/xgboost/blob/master/doc/parameter.rst#learning-task-parameters) for all possible `learning_objective`s and `comparison_metric`s."
   ]
  },
  {
   "cell_type": "code",
   "execution_count": null,
   "metadata": {},
   "outputs": [],
   "source": [
    "# Please give your experiment a meaninful name\n",
    "# It should be unique in the scope of the problem\n",
    "experiment.name = \"Demo\"\n",
    "experiment.description = \"demo\"\n",
    "\n",
    "#specify the dataset for the experiment\n",
    "# Format is : <train_test_split_transformation_name>_problem_<problem_id>_<i>\n",
    "# i=0 for train data, i=1 for valid data and i=2 for test data\n",
    "\n",
    "experiment.training_data_s3_uri = \"\"\n",
    "experiment.validation_data_s3_uri = \"\"\n",
    "experiment.test_data_s3_uri = \"\"\n",
    "\n",
    "# Valid Pairs include\n",
    "# binary:logistic -> error  | auc | aucpr\n",
    "# multi:softprob  -> merror | auc | aucpr\n",
    "# reg:logistic    -> rmse  | rmsle | mae | mape\n",
    "experiment.learning_objective = \"BinaryClassification\"\n",
    "experiment.comparison_metric = \"rmse\""
   ]
  },
  {
   "cell_type": "markdown",
   "metadata": {},
   "source": [
    "#### Optional Fields"
   ]
  },
  {
   "cell_type": "markdown",
   "metadata": {},
   "source": [
    "You can leave the values as is, or adjust them if you want"
   ]
  },
  {
   "cell_type": "code",
   "execution_count": null,
   "metadata": {},
   "outputs": [],
   "source": [
    "# You may uncomment and change any of these default values\n",
    "\n",
    "# experiment.positive_data_weight: float = 1.0\n",
    "# experiment.hpt_max_jobs: int = 5\n",
    "# experiment.hpt_max_parallel_jobs: int = 5\n",
    "# experiment.train_instance_count: int = 1\n",
    "# experiment.train_instance_type: str = \"ml.m4.xlarge\"\n",
    "# experiment.test_instance_count: int = 1\n",
    "# experiment.test_instance_type: str = \"ml.m4.xlarge\"\n"
   ]
  },
  {
   "cell_type": "markdown",
   "metadata": {},
   "source": [
    "## Train Model"
   ]
  },
  {
   "cell_type": "markdown",
   "metadata": {},
   "source": [
    "### Before running training make sure\n",
    "  - first column contains the target value  [use : MoveColumnToFirstGlueTransformer]\n",
    "  - the dataset headers are extracted and uploaded to S3 [use : UpdateColumnsGlueTransformer]"
   ]
  },
  {
   "cell_type": "code",
   "execution_count": null,
   "metadata": {},
   "outputs": [],
   "source": [
    "# System cell\n",
    "# Long-running job\n",
    "experiment.save_and_run_training()"
   ]
  },
  {
   "cell_type": "markdown",
   "metadata": {},
   "source": [
    "That's it! Now all you need is to wait until training is over."
   ]
  },
  {
   "cell_type": "code",
   "execution_count": null,
   "metadata": {},
   "outputs": [],
   "source": [
    "# When the status = 'Training complete', we can proceed further. Otherwise, we need to wait.\n",
    "# Training could take several hours, or even more, on huge datasets\n",
    "experiment = ExperimentLoader.load(problem_id, experiment_id)\n",
    "experiment.status()"
   ]
  },
  {
   "cell_type": "markdown",
   "metadata": {},
   "source": [
    "## Deploy Model"
   ]
  },
  {
   "cell_type": "markdown",
   "metadata": {},
   "source": [
    "If you find the model valuable, you might consider deploying it to reuse in the future.\n",
    "Uncomment and run the cell below"
   ]
  },
  {
   "cell_type": "code",
   "execution_count": null,
   "metadata": {},
   "outputs": [],
   "source": [
    "# System cell\n",
    "# Long-running job\n",
    "\n",
    "# experiment.deploy()"
   ]
  },
  {
   "cell_type": "code",
   "execution_count": null,
   "metadata": {},
   "outputs": [],
   "source": [
    "# System cell\n",
    "# When deployment is done, you can run inferences using the inference link\n",
    "# experiment.inference_link()\n"
   ]
  }
 ],
 "metadata": {
  "kernel_info": {
   "name": "conda_amazonei_tensorflow_p36"
  },
  "kernelspec": {
   "display_name": "conda_amazonei_tensorflow_p36",
   "language": "python",
   "name": "conda_amazonei_tensorflow_p36"
  },
  "language_info": {
   "codemirror_mode": {
    "name": "ipython",
    "version": 3
   },
   "file_extension": ".py",
   "mimetype": "text/x-python",
   "name": "python",
   "nbconvert_exporter": "python",
   "pygments_lexer": "ipython3",
   "version": "3.6.10"
  }
 },
 "nbformat": 4,
 "nbformat_minor": 4
}
